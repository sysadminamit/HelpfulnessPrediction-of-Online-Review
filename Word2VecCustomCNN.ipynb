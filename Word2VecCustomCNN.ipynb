{
  "nbformat": 4,
  "nbformat_minor": 0,
  "metadata": {
    "colab": {
      "name": "Word2VecCustomCNN.ipynb",
      "version": "0.3.2",
      "provenance": [],
      "include_colab_link": true
    },
    "kernelspec": {
      "name": "python3",
      "display_name": "Python 3"
    },
    "accelerator": "GPU"
  },
  "cells": [
    {
      "cell_type": "markdown",
      "metadata": {
        "id": "view-in-github",
        "colab_type": "text"
      },
      "source": [
        "<a href=\"https://colab.research.google.com/github/sysadminamit/HelpfulnessPrediction-of-Online-Review/blob/master/Word2VecCustomCNN.ipynb\" target=\"_parent\"><img src=\"https://colab.research.google.com/assets/colab-badge.svg\" alt=\"Open In Colab\"/></a>"
      ]
    },
    {
      "cell_type": "code",
      "metadata": {
        "id": "PmzOfqOdAJWR",
        "colab_type": "code",
        "outputId": "f8c66a4c-33ec-4ead-aa1a-4a7b57fa2a0f",
        "colab": {
          "base_uri": "https://localhost:8080/",
          "height": 121
        }
      },
      "source": [
        "from google.colab import drive\n",
        "drive.mount('/content/gdrive')"
      ],
      "execution_count": 1,
      "outputs": [
        {
          "output_type": "stream",
          "text": [
            "Go to this URL in a browser: https://accounts.google.com/o/oauth2/auth?client_id=947318989803-6bn6qk8qdgf4n4g3pfee6491hc0brc4i.apps.googleusercontent.com&redirect_uri=urn%3Aietf%3Awg%3Aoauth%3A2.0%3Aoob&scope=email%20https%3A%2F%2Fwww.googleapis.com%2Fauth%2Fdocs.test%20https%3A%2F%2Fwww.googleapis.com%2Fauth%2Fdrive%20https%3A%2F%2Fwww.googleapis.com%2Fauth%2Fdrive.photos.readonly%20https%3A%2F%2Fwww.googleapis.com%2Fauth%2Fpeopleapi.readonly&response_type=code\n",
            "\n",
            "Enter your authorization code:\n",
            "··········\n",
            "Mounted at /content/gdrive\n"
          ],
          "name": "stdout"
        }
      ]
    },
    {
      "cell_type": "code",
      "metadata": {
        "id": "MRAl-E3_Ac00",
        "colab_type": "code",
        "outputId": "ad55eb7e-3022-49e1-e83a-f9dffd5c73c1",
        "colab": {
          "base_uri": "https://localhost:8080/",
          "height": 195
        }
      },
      "source": [
        "import numpy as np\n",
        "import matplotlib.pyplot as plt\n",
        "plt.style.use('fivethirtyeight')\n",
        "\n",
        "%matplotlib inline\n",
        "%config InlineBackend.figure_format = 'retina'\n",
        "import pandas as pd\n",
        "df=pd.read_csv('gdrive/My Drive/AmazonElectronicsProductReviewClean.csv')\n",
        "df.head()"
      ],
      "execution_count": 2,
      "outputs": [
        {
          "output_type": "execute_result",
          "data": {
            "text/html": [
              "<div>\n",
              "<style scoped>\n",
              "    .dataframe tbody tr th:only-of-type {\n",
              "        vertical-align: middle;\n",
              "    }\n",
              "\n",
              "    .dataframe tbody tr th {\n",
              "        vertical-align: top;\n",
              "    }\n",
              "\n",
              "    .dataframe thead th {\n",
              "        text-align: right;\n",
              "    }\n",
              "</style>\n",
              "<table border=\"1\" class=\"dataframe\">\n",
              "  <thead>\n",
              "    <tr style=\"text-align: right;\">\n",
              "      <th></th>\n",
              "      <th>Unnamed: 0</th>\n",
              "      <th>overall</th>\n",
              "      <th>Helpfulfactor</th>\n",
              "      <th>review</th>\n",
              "      <th>Summary</th>\n",
              "    </tr>\n",
              "  </thead>\n",
              "  <tbody>\n",
              "    <tr>\n",
              "      <th>0</th>\n",
              "      <td>0</td>\n",
              "      <td>1</td>\n",
              "      <td>1.0</td>\n",
              "      <td>excite especially since every time refuse turn...</td>\n",
              "      <td>very disappointed</td>\n",
              "    </tr>\n",
              "    <tr>\n",
              "      <th>1</th>\n",
              "      <td>1</td>\n",
              "      <td>3</td>\n",
              "      <td>1.0</td>\n",
              "      <td>enter multiple stop vias nowhere near userfrie...</td>\n",
              "      <td>1st impression</td>\n",
              "    </tr>\n",
              "    <tr>\n",
              "      <th>2</th>\n",
              "      <td>2</td>\n",
              "      <td>2</td>\n",
              "      <td>1.0</td>\n",
              "      <td>might think conjested city situation might get...</td>\n",
              "      <td>great grafics poor gps</td>\n",
              "    </tr>\n",
              "    <tr>\n",
              "      <th>3</th>\n",
              "      <td>3</td>\n",
              "      <td>5</td>\n",
              "      <td>1.0</td>\n",
              "      <td>hd picture samsung tv excellent</td>\n",
              "      <td>hdmi nook adapter cable</td>\n",
              "    </tr>\n",
              "    <tr>\n",
              "      <th>4</th>\n",
              "      <td>4</td>\n",
              "      <td>5</td>\n",
              "      <td>1.0</td>\n",
              "      <td>warn</td>\n",
              "      <td>this works great but read the details</td>\n",
              "    </tr>\n",
              "  </tbody>\n",
              "</table>\n",
              "</div>"
            ],
            "text/plain": [
              "   Unnamed: 0  ...                                Summary\n",
              "0           0  ...                      very disappointed\n",
              "1           1  ...                         1st impression\n",
              "2           2  ...                 great grafics poor gps\n",
              "3           3  ...                hdmi nook adapter cable\n",
              "4           4  ...  this works great but read the details\n",
              "\n",
              "[5 rows x 5 columns]"
            ]
          },
          "metadata": {
            "tags": []
          },
          "execution_count": 2
        }
      ]
    },
    {
      "cell_type": "code",
      "metadata": {
        "id": "eijMg0CIArrQ",
        "colab_type": "code",
        "outputId": "f026d3ef-2c25-4a09-81c1-1555ffc42091",
        "colab": {
          "base_uri": "https://localhost:8080/",
          "height": 77
        }
      },
      "source": [
        "df = df.sample(n = 50000)\n",
        "df.head(1)"
      ],
      "execution_count": 3,
      "outputs": [
        {
          "output_type": "execute_result",
          "data": {
            "text/html": [
              "<div>\n",
              "<style scoped>\n",
              "    .dataframe tbody tr th:only-of-type {\n",
              "        vertical-align: middle;\n",
              "    }\n",
              "\n",
              "    .dataframe tbody tr th {\n",
              "        vertical-align: top;\n",
              "    }\n",
              "\n",
              "    .dataframe thead th {\n",
              "        text-align: right;\n",
              "    }\n",
              "</style>\n",
              "<table border=\"1\" class=\"dataframe\">\n",
              "  <thead>\n",
              "    <tr style=\"text-align: right;\">\n",
              "      <th></th>\n",
              "      <th>Unnamed: 0</th>\n",
              "      <th>overall</th>\n",
              "      <th>Helpfulfactor</th>\n",
              "      <th>review</th>\n",
              "      <th>Summary</th>\n",
              "    </tr>\n",
              "  </thead>\n",
              "  <tbody>\n",
              "    <tr>\n",
              "      <th>14285</th>\n",
              "      <td>14289</td>\n",
              "      <td>3</td>\n",
              "      <td>1.0</td>\n",
              "      <td>cable work design</td>\n",
              "      <td>works as designed</td>\n",
              "    </tr>\n",
              "  </tbody>\n",
              "</table>\n",
              "</div>"
            ],
            "text/plain": [
              "       Unnamed: 0  overall  Helpfulfactor             review            Summary\n",
              "14285       14289        3            1.0  cable work design  works as designed"
            ]
          },
          "metadata": {
            "tags": []
          },
          "execution_count": 3
        }
      ]
    },
    {
      "cell_type": "code",
      "metadata": {
        "id": "q0b5fhqbA2fh",
        "colab_type": "code",
        "outputId": "af136723-4380-4548-9ed2-7daf9d824c36",
        "colab": {
          "base_uri": "https://localhost:8080/",
          "height": 67
        }
      },
      "source": [
        "df['Helpfulfactor'].value_counts()"
      ],
      "execution_count": 4,
      "outputs": [
        {
          "output_type": "execute_result",
          "data": {
            "text/plain": [
              "1.0    33612\n",
              "0.0    16388\n",
              "Name: Helpfulfactor, dtype: int64"
            ]
          },
          "metadata": {
            "tags": []
          },
          "execution_count": 4
        }
      ]
    },
    {
      "cell_type": "code",
      "metadata": {
        "id": "ajCQvHJmA6md",
        "colab_type": "code",
        "outputId": "7390d907-6373-4ee5-bd17-fb38f7236b9c",
        "colab": {
          "base_uri": "https://localhost:8080/",
          "height": 67
        }
      },
      "source": [
        "from sklearn.utils import resample\n",
        "data_majority = df[df.Helpfulfactor == 1.0 ]\n",
        "data_minority = df[df.Helpfulfactor == 0.0 ]\n",
        "data_minority_upsampled = resample(data_minority, \n",
        "                                 replace=True,     # sample with replacement\n",
        "                                 n_samples=33376,    # to match majority class\n",
        "                                 random_state=123) # reproducible results\n",
        "df = pd.concat([data_majority, data_minority_upsampled])\n",
        "df['Helpfulfactor'].value_counts()"
      ],
      "execution_count": 5,
      "outputs": [
        {
          "output_type": "execute_result",
          "data": {
            "text/plain": [
              "1.0    33612\n",
              "0.0    33376\n",
              "Name: Helpfulfactor, dtype: int64"
            ]
          },
          "metadata": {
            "tags": []
          },
          "execution_count": 5
        }
      ]
    },
    {
      "cell_type": "code",
      "metadata": {
        "id": "h6BWMspJBAeP",
        "colab_type": "code",
        "outputId": "22ba8714-ce91-41e4-f62f-1a073f58b5fc",
        "colab": {
          "base_uri": "https://localhost:8080/",
          "height": 185
        }
      },
      "source": [
        "df.dropna(inplace=True)\n",
        "df.reset_index(drop=True,inplace=True)\n",
        "df.info()"
      ],
      "execution_count": 6,
      "outputs": [
        {
          "output_type": "stream",
          "text": [
            "<class 'pandas.core.frame.DataFrame'>\n",
            "RangeIndex: 66868 entries, 0 to 66867\n",
            "Data columns (total 5 columns):\n",
            "Unnamed: 0       66868 non-null int64\n",
            "overall          66868 non-null int64\n",
            "Helpfulfactor    66868 non-null float64\n",
            "review           66868 non-null object\n",
            "Summary          66868 non-null object\n",
            "dtypes: float64(1), int64(2), object(2)\n",
            "memory usage: 2.6+ MB\n"
          ],
          "name": "stdout"
        }
      ]
    },
    {
      "cell_type": "code",
      "metadata": {
        "id": "jhOBcX6CBLcV",
        "colab_type": "code",
        "colab": {}
      },
      "source": [
        "x = df.review\n",
        "y = df.Helpfulfactor"
      ],
      "execution_count": 0,
      "outputs": []
    },
    {
      "cell_type": "code",
      "metadata": {
        "id": "PPQEC92LBPVW",
        "colab_type": "code",
        "colab": {}
      },
      "source": [
        "from sklearn.model_selection import train_test_split\n",
        "SEED = 2000\n",
        "x_train, x_validation_and_test, y_train, y_validation_and_test = train_test_split(x, y, test_size=0.2, random_state=SEED)\n",
        "x_validation, x_test, y_validation, y_test = train_test_split(x_validation_and_test, y_validation_and_test, test_size=.5, random_state=SEED)"
      ],
      "execution_count": 0,
      "outputs": []
    },
    {
      "cell_type": "code",
      "metadata": {
        "id": "nxhwQBh6Bbuy",
        "colab_type": "code",
        "outputId": "cfb15fbe-3254-421c-b2ca-1b5e6dd9d4d8",
        "colab": {
          "base_uri": "https://localhost:8080/",
          "height": 67
        }
      },
      "source": [
        "print (\"Train set has total {0} entries with {1:.2f}% negative, {2:.2f}% positive\".format(len(x_train),\n",
        "                                                                             (len(x_train[y_train == 0]) / (len(x_train)*1.))*100,\n",
        "                                                                            (len(x_train[y_train == 1]) / (len(x_train)*1.))*100))\n",
        "print( \"Validation set has total {0} entries with {1:.2f}% negative, {2:.2f}% positive\".format(len(x_validation),\n",
        "                                                                             (len(x_validation[y_validation == 0]) / (len(x_validation)*1.))*100,\n",
        "                                                                            (len(x_validation[y_validation == 1]) / (len(x_validation)*1.))*100))\n",
        "print( \"Test set has total {0} entries with {1:.2f}% negative, {2:.2f}% positive\".format(len(x_test),\n",
        "                                                                             (len(x_test[y_test == 0]) / (len(x_test)*1.))*100,\n",
        "                                                                            (len(x_test[y_test == 1]) / (len(x_test)*1.))*100))"
      ],
      "execution_count": 9,
      "outputs": [
        {
          "output_type": "stream",
          "text": [
            "Train set has total 53494 entries with 49.84% negative, 50.16% positive\n",
            "Validation set has total 6687 entries with 49.51% negative, 50.49% positive\n",
            "Test set has total 6687 entries with 50.13% negative, 49.87% positive\n"
          ],
          "name": "stdout"
        }
      ]
    },
    {
      "cell_type": "code",
      "metadata": {
        "id": "xZR-k7L-BhMf",
        "colab_type": "code",
        "colab": {}
      },
      "source": [
        "from tqdm import tqdm\n",
        "tqdm.pandas(desc=\"progress-bar\")\n",
        "import gensim\n",
        "from gensim.models.word2vec import Word2Vec\n",
        "from gensim.models.doc2vec import TaggedDocument\n",
        "import multiprocessing\n",
        "from sklearn import utils"
      ],
      "execution_count": 0,
      "outputs": []
    },
    {
      "cell_type": "code",
      "metadata": {
        "id": "XMw9YEAHBocs",
        "colab_type": "code",
        "colab": {}
      },
      "source": [
        "def labelize_review_ug(review,label):\n",
        "    result = []\n",
        "    prefix = label\n",
        "    for i, t in zip(review.index, review):\n",
        "        result.append(TaggedDocument(t.split(), [prefix + '_%s' % i]))\n",
        "    return result"
      ],
      "execution_count": 0,
      "outputs": []
    },
    {
      "cell_type": "code",
      "metadata": {
        "id": "a6sMb97SBtOZ",
        "colab_type": "code",
        "colab": {}
      },
      "source": [
        "all_x = pd.concat([x_train,x_validation,x_test])\n",
        "all_x_w2v = labelize_review_ug(all_x, 'all')"
      ],
      "execution_count": 0,
      "outputs": []
    },
    {
      "cell_type": "code",
      "metadata": {
        "id": "inqkWwCCBxot",
        "colab_type": "code",
        "outputId": "baccc103-4336-43db-d189-c90ead28b4fb",
        "colab": {
          "base_uri": "https://localhost:8080/",
          "height": 34
        }
      },
      "source": [
        "cores = multiprocessing.cpu_count()\n",
        "model_ug_cbow = Word2Vec(sg=0, size=100, negative=5, window=2, min_count=2, workers=cores, alpha=0.065, min_alpha=0.065)\n",
        "model_ug_cbow.build_vocab([x.words for x in tqdm(all_x_w2v)])"
      ],
      "execution_count": 13,
      "outputs": [
        {
          "output_type": "stream",
          "text": [
            "100%|██████████| 66868/66868 [00:00<00:00, 1876331.96it/s]\n"
          ],
          "name": "stderr"
        }
      ]
    },
    {
      "cell_type": "code",
      "metadata": {
        "id": "omKq8fHMB4Iy",
        "colab_type": "code",
        "outputId": "44d2060e-9883-4528-cd34-541684c159b0",
        "colab": {
          "base_uri": "https://localhost:8080/",
          "height": 554
        }
      },
      "source": [
        "%%time\n",
        "for epoch in range(30):\n",
        "    model_ug_cbow.train(utils.shuffle([x.words for x in tqdm(all_x_w2v)]), total_examples=len(all_x_w2v), epochs=1)\n",
        "    model_ug_cbow.alpha -= 0.002\n",
        "    model_ug_cbow.min_alpha = model_ug_cbow.alpha"
      ],
      "execution_count": 14,
      "outputs": [
        {
          "output_type": "stream",
          "text": [
            "100%|██████████| 66868/66868 [00:00<00:00, 2041510.25it/s]\n",
            "100%|██████████| 66868/66868 [00:00<00:00, 1771415.79it/s]\n",
            "100%|██████████| 66868/66868 [00:00<00:00, 2024416.74it/s]\n",
            "100%|██████████| 66868/66868 [00:00<00:00, 1808516.38it/s]\n",
            "100%|██████████| 66868/66868 [00:00<00:00, 2102182.05it/s]\n",
            "100%|██████████| 66868/66868 [00:00<00:00, 1751754.91it/s]\n",
            "100%|██████████| 66868/66868 [00:00<00:00, 2079457.27it/s]\n",
            "100%|██████████| 66868/66868 [00:00<00:00, 1977749.95it/s]\n",
            "100%|██████████| 66868/66868 [00:00<00:00, 1926652.42it/s]\n",
            "100%|██████████| 66868/66868 [00:00<00:00, 1967828.24it/s]\n",
            "100%|██████████| 66868/66868 [00:00<00:00, 1664479.05it/s]\n",
            "100%|██████████| 66868/66868 [00:00<00:00, 1857948.25it/s]\n",
            "100%|██████████| 66868/66868 [00:00<00:00, 1865312.92it/s]\n",
            "100%|██████████| 66868/66868 [00:00<00:00, 1880760.98it/s]\n",
            "100%|██████████| 66868/66868 [00:00<00:00, 1994954.87it/s]\n",
            "100%|██████████| 66868/66868 [00:00<00:00, 2110995.26it/s]\n",
            "100%|██████████| 66868/66868 [00:00<00:00, 2251517.01it/s]\n",
            "100%|██████████| 66868/66868 [00:00<00:00, 2003691.54it/s]\n",
            "100%|██████████| 66868/66868 [00:00<00:00, 1907767.53it/s]\n",
            "100%|██████████| 66868/66868 [00:00<00:00, 2023700.99it/s]\n",
            "100%|██████████| 66868/66868 [00:00<00:00, 2026552.40it/s]\n",
            "100%|██████████| 66868/66868 [00:00<00:00, 2043682.15it/s]\n",
            "100%|██████████| 66868/66868 [00:00<00:00, 2098360.15it/s]\n",
            "100%|██████████| 66868/66868 [00:00<00:00, 1964410.08it/s]\n",
            "100%|██████████| 66868/66868 [00:00<00:00, 2302930.71it/s]\n",
            "100%|██████████| 66868/66868 [00:00<00:00, 2122353.12it/s]\n",
            "100%|██████████| 66868/66868 [00:00<00:00, 2249855.36it/s]\n",
            "100%|██████████| 66868/66868 [00:00<00:00, 2368349.80it/s]\n",
            "100%|██████████| 66868/66868 [00:00<00:00, 1938745.36it/s]\n",
            "100%|██████████| 66868/66868 [00:00<00:00, 2108693.87it/s]\n"
          ],
          "name": "stderr"
        },
        {
          "output_type": "stream",
          "text": [
            "CPU times: user 36.9 s, sys: 259 ms, total: 37.2 s\n",
            "Wall time: 20.9 s\n"
          ],
          "name": "stdout"
        }
      ]
    },
    {
      "cell_type": "code",
      "metadata": {
        "id": "Q4Lf5MWOB9W5",
        "colab_type": "code",
        "outputId": "9ce80f49-4aaf-478f-fb11-74e4f0ae4aa4",
        "colab": {
          "base_uri": "https://localhost:8080/",
          "height": 34
        }
      },
      "source": [
        "model_ug_sg = Word2Vec(sg=1, size=100, negative=5, window=2, min_count=2, workers=cores, alpha=0.065, min_alpha=0.065)\n",
        "model_ug_sg.build_vocab([x.words for x in tqdm(all_x_w2v)])"
      ],
      "execution_count": 15,
      "outputs": [
        {
          "output_type": "stream",
          "text": [
            "100%|██████████| 66868/66868 [00:00<00:00, 1939026.84it/s]\n"
          ],
          "name": "stderr"
        }
      ]
    },
    {
      "cell_type": "code",
      "metadata": {
        "id": "AXDoJUH7CIOY",
        "colab_type": "code",
        "outputId": "76208337-36a7-4fef-bb40-0f72ad98a089",
        "colab": {
          "base_uri": "https://localhost:8080/",
          "height": 554
        }
      },
      "source": [
        "%%time\n",
        "for epoch in range(30):\n",
        "    model_ug_sg.train(utils.shuffle([x.words for x in tqdm(all_x_w2v)]), total_examples=len(all_x_w2v), epochs=1)\n",
        "    model_ug_sg.alpha -= 0.002\n",
        "    model_ug_sg.min_alpha = model_ug_sg.alpha"
      ],
      "execution_count": 16,
      "outputs": [
        {
          "output_type": "stream",
          "text": [
            "100%|██████████| 66868/66868 [00:00<00:00, 1897596.21it/s]\n",
            "100%|██████████| 66868/66868 [00:00<00:00, 1852083.57it/s]\n",
            "100%|██████████| 66868/66868 [00:00<00:00, 1779575.89it/s]\n",
            "100%|██████████| 66868/66868 [00:00<00:00, 1782754.49it/s]\n",
            "100%|██████████| 66868/66868 [00:00<00:00, 2029632.16it/s]\n",
            "100%|██████████| 66868/66868 [00:00<00:00, 1945631.46it/s]\n",
            "100%|██████████| 66868/66868 [00:00<00:00, 1958128.62it/s]\n",
            "100%|██████████| 66868/66868 [00:00<00:00, 1718470.64it/s]\n",
            "100%|██████████| 66868/66868 [00:00<00:00, 1812642.40it/s]\n",
            "100%|██████████| 66868/66868 [00:00<00:00, 2053693.60it/s]\n",
            "100%|██████████| 66868/66868 [00:00<00:00, 2104027.19it/s]\n",
            "100%|██████████| 66868/66868 [00:00<00:00, 2164547.28it/s]\n",
            "100%|██████████| 66868/66868 [00:00<00:00, 2349737.93it/s]\n",
            "100%|██████████| 66868/66868 [00:00<00:00, 2082839.25it/s]\n",
            "100%|██████████| 66868/66868 [00:00<00:00, 2213053.69it/s]\n",
            "100%|██████████| 66868/66868 [00:00<00:00, 1749875.03it/s]\n",
            "100%|██████████| 66868/66868 [00:00<00:00, 1904257.25it/s]\n",
            "100%|██████████| 66868/66868 [00:00<00:00, 1953505.05it/s]\n",
            "100%|██████████| 66868/66868 [00:00<00:00, 1981074.79it/s]\n",
            "100%|██████████| 66868/66868 [00:00<00:00, 1981816.72it/s]\n",
            "100%|██████████| 66868/66868 [00:00<00:00, 1900231.85it/s]\n",
            "100%|██████████| 66868/66868 [00:00<00:00, 1854925.40it/s]\n",
            "100%|██████████| 66868/66868 [00:00<00:00, 1958798.73it/s]\n",
            "100%|██████████| 66868/66868 [00:00<00:00, 1671731.49it/s]\n",
            "100%|██████████| 66868/66868 [00:00<00:00, 1896582.48it/s]\n",
            "100%|██████████| 66868/66868 [00:00<00:00, 1802912.79it/s]\n",
            "100%|██████████| 66868/66868 [00:00<00:00, 1505390.13it/s]\n",
            "100%|██████████| 66868/66868 [00:00<00:00, 1959660.98it/s]\n",
            "100%|██████████| 66868/66868 [00:00<00:00, 1875416.05it/s]\n",
            "100%|██████████| 66868/66868 [00:00<00:00, 1941550.39it/s]\n"
          ],
          "name": "stderr"
        },
        {
          "output_type": "stream",
          "text": [
            "CPU times: user 1min 1s, sys: 222 ms, total: 1min 1s\n",
            "Wall time: 33 s\n"
          ],
          "name": "stdout"
        }
      ]
    },
    {
      "cell_type": "code",
      "metadata": {
        "id": "4_Qgv4pXCNzB",
        "colab_type": "code",
        "outputId": "1f5c0079-6e43-48c0-c0de-af65dc5b8db9",
        "colab": {
          "base_uri": "https://localhost:8080/",
          "height": 70
        }
      },
      "source": [
        "model_ug_cbow.save('w2v_model_ug_cbow.word2vec')\n",
        "model_ug_sg.save('w2v_model_ug_sg.word2vec')"
      ],
      "execution_count": 17,
      "outputs": [
        {
          "output_type": "stream",
          "text": [
            "/usr/local/lib/python3.6/dist-packages/smart_open/smart_open_lib.py:398: UserWarning: This function is deprecated, use smart_open.open instead. See the migration notes for details: https://github.com/RaRe-Technologies/smart_open/blob/master/README.rst#migrating-to-the-new-open-function\n",
            "  'See the migration notes for details: %s' % _MIGRATION_NOTES_URL\n"
          ],
          "name": "stderr"
        }
      ]
    },
    {
      "cell_type": "code",
      "metadata": {
        "id": "1nwxqkKrCWW0",
        "colab_type": "code",
        "outputId": "7488109b-ecd8-444a-da8d-f07f12582e63",
        "colab": {
          "base_uri": "https://localhost:8080/",
          "height": 70
        }
      },
      "source": [
        "from gensim.models import KeyedVectors\n",
        "model_ug_cbow = KeyedVectors.load('w2v_model_ug_cbow.word2vec')\n",
        "model_ug_sg = KeyedVectors.load('w2v_model_ug_sg.word2vec')"
      ],
      "execution_count": 18,
      "outputs": [
        {
          "output_type": "stream",
          "text": [
            "/usr/local/lib/python3.6/dist-packages/smart_open/smart_open_lib.py:398: UserWarning: This function is deprecated, use smart_open.open instead. See the migration notes for details: https://github.com/RaRe-Technologies/smart_open/blob/master/README.rst#migrating-to-the-new-open-function\n",
            "  'See the migration notes for details: %s' % _MIGRATION_NOTES_URL\n"
          ],
          "name": "stderr"
        }
      ]
    },
    {
      "cell_type": "code",
      "metadata": {
        "id": "8uyf2s3XCjfh",
        "colab_type": "code",
        "outputId": "0ec26f58-f1a4-49c3-a701-6378432f785c",
        "colab": {
          "base_uri": "https://localhost:8080/",
          "height": 34
        }
      },
      "source": [
        "len(model_ug_cbow.wv.vocab.keys())"
      ],
      "execution_count": 19,
      "outputs": [
        {
          "output_type": "execute_result",
          "data": {
            "text/plain": [
              "10553"
            ]
          },
          "metadata": {
            "tags": []
          },
          "execution_count": 19
        }
      ]
    },
    {
      "cell_type": "code",
      "metadata": {
        "id": "X7LBsyR_CoGn",
        "colab_type": "code",
        "outputId": "00ea6acf-863c-43fe-a234-5669de7f31d9",
        "colab": {
          "base_uri": "https://localhost:8080/",
          "height": 34
        }
      },
      "source": [
        "len(model_ug_sg.wv.vocab.keys())"
      ],
      "execution_count": 20,
      "outputs": [
        {
          "output_type": "execute_result",
          "data": {
            "text/plain": [
              "10553"
            ]
          },
          "metadata": {
            "tags": []
          },
          "execution_count": 20
        }
      ]
    },
    {
      "cell_type": "code",
      "metadata": {
        "id": "AGTWMRWJCtPW",
        "colab_type": "code",
        "outputId": "d142b6be-e121-4990-cb47-bdea1ae290e4",
        "colab": {
          "base_uri": "https://localhost:8080/",
          "height": 34
        }
      },
      "source": [
        "embeddings_index = {}\n",
        "for w in model_ug_cbow.wv.vocab.keys():\n",
        "    embeddings_index[w] = np.append(model_ug_cbow.wv[w],model_ug_sg.wv[w])\n",
        "print('Found %s word vectors.' % len(embeddings_index))"
      ],
      "execution_count": 21,
      "outputs": [
        {
          "output_type": "stream",
          "text": [
            "Found 10553 word vectors.\n"
          ],
          "name": "stdout"
        }
      ]
    },
    {
      "cell_type": "code",
      "metadata": {
        "id": "_JmBmXErCzUQ",
        "colab_type": "code",
        "colab": {
          "base_uri": "https://localhost:8080/",
          "height": 34
        },
        "outputId": "6409412b-7d31-49d7-c9fa-f2a16cc2e72a"
      },
      "source": [
        "from keras.preprocessing.text import Tokenizer\n",
        "from keras.preprocessing.sequence import pad_sequences\n",
        "\n",
        "tokenizer = Tokenizer(num_words=10000)\n",
        "tokenizer.fit_on_texts(x_train)\n",
        "sequences = tokenizer.texts_to_sequences(x_train)"
      ],
      "execution_count": 22,
      "outputs": [
        {
          "output_type": "stream",
          "text": [
            "Using TensorFlow backend.\n"
          ],
          "name": "stderr"
        }
      ]
    },
    {
      "cell_type": "code",
      "metadata": {
        "id": "Nx6N5OrGDDcx",
        "colab_type": "code",
        "outputId": "8708b2fa-6f50-4ba0-9d4b-df4db1260342",
        "colab": {
          "base_uri": "https://localhost:8080/",
          "height": 34
        }
      },
      "source": [
        "x_train_seq = pad_sequences(sequences, maxlen=100)\n",
        "print('Shape of data tensor:', x_train_seq.shape)"
      ],
      "execution_count": 23,
      "outputs": [
        {
          "output_type": "stream",
          "text": [
            "Shape of data tensor: (53494, 100)\n"
          ],
          "name": "stdout"
        }
      ]
    },
    {
      "cell_type": "code",
      "metadata": {
        "id": "DaZn-XeKD34n",
        "colab_type": "code",
        "colab": {}
      },
      "source": [
        "sequences_val = tokenizer.texts_to_sequences(x_validation)\n",
        "x_val_seq = pad_sequences(sequences_val, maxlen=100)"
      ],
      "execution_count": 0,
      "outputs": []
    },
    {
      "cell_type": "code",
      "metadata": {
        "id": "YDNGiCjpD8aJ",
        "colab_type": "code",
        "colab": {}
      },
      "source": [
        "num_words = 10000\n",
        "embedding_matrix = np.zeros((num_words, 200))\n",
        "for word, i in tokenizer.word_index.items():\n",
        "    if i >= num_words:\n",
        "        continue\n",
        "    embedding_vector = embeddings_index.get(word)\n",
        "    if embedding_vector is not None:\n",
        "        embedding_matrix[i] = embedding_vector"
      ],
      "execution_count": 0,
      "outputs": []
    },
    {
      "cell_type": "code",
      "metadata": {
        "id": "eiqByWeZEAxr",
        "colab_type": "code",
        "colab": {}
      },
      "source": [
        "seed = 7\n",
        "\n",
        "from keras.models import Sequential\n",
        "from keras.layers import Dense, Dropout,Conv1D,Conv2D,GlobalMaxPooling1D,BatchNormalization\n",
        "from keras.layers import Flatten\n",
        "from keras.layers.embeddings import Embedding"
      ],
      "execution_count": 0,
      "outputs": []
    },
    {
      "cell_type": "code",
      "metadata": {
        "id": "P5p0lPXGEFR_",
        "colab_type": "code",
        "outputId": "94112ef4-30f6-4c32-e7ff-d436b9e28f42",
        "colab": {
          "base_uri": "https://localhost:8080/",
          "height": 605
        }
      },
      "source": [
        "from keras.layers import Input, Dense, concatenate, Activation\n",
        "from keras.models import Model\n",
        "from keras.optimizers import Adam\n",
        "tweet_input = Input(shape=(100,), dtype='int32')\n",
        "\n",
        "tweet_encoder = Embedding(10000, 200, weights=[embedding_matrix], input_length=100, trainable=True)(tweet_input)\n",
        "bigram_branch = Conv1D(filters=400, kernel_size=2, padding='valid', activation='relu', strides=1)(tweet_encoder)\n",
        "bigram_branch = GlobalMaxPooling1D()(bigram_branch)\n",
        "trigram_branch = Conv1D(filters=400, kernel_size=3, padding='valid', activation='relu', strides=1)(tweet_encoder)\n",
        "trigram_branch = GlobalMaxPooling1D()(trigram_branch)\n",
        "fourgram_branch = Conv1D(filters=400, kernel_size=4, padding='valid', activation='relu', strides=1)(tweet_encoder)\n",
        "fourgram_branch = GlobalMaxPooling1D()(fourgram_branch)\n",
        "merged = concatenate([bigram_branch, trigram_branch, fourgram_branch], axis=1)\n",
        "\n",
        "merged = Dense(10, activation='relu')(merged)\n",
        "merged = Dropout(0.2)(merged)\n",
        "merged = Dense(1)(merged)\n",
        "output = Activation('sigmoid')(merged)\n",
        "model = Model(inputs=[tweet_input], outputs=[output])\n",
        "model.compile(loss='binary_crossentropy',\n",
        "                  optimizer=Adam(lr=0.00001),\n",
        "                  metrics=['accuracy'])\n",
        "model.summary()"
      ],
      "execution_count": 33,
      "outputs": [
        {
          "output_type": "stream",
          "text": [
            "__________________________________________________________________________________________________\n",
            "Layer (type)                    Output Shape         Param #     Connected to                     \n",
            "==================================================================================================\n",
            "input_2 (InputLayer)            (None, 100)          0                                            \n",
            "__________________________________________________________________________________________________\n",
            "embedding_2 (Embedding)         (None, 100, 200)     2000000     input_2[0][0]                    \n",
            "__________________________________________________________________________________________________\n",
            "conv1d_4 (Conv1D)               (None, 99, 400)      160400      embedding_2[0][0]                \n",
            "__________________________________________________________________________________________________\n",
            "conv1d_5 (Conv1D)               (None, 98, 400)      240400      embedding_2[0][0]                \n",
            "__________________________________________________________________________________________________\n",
            "conv1d_6 (Conv1D)               (None, 97, 400)      320400      embedding_2[0][0]                \n",
            "__________________________________________________________________________________________________\n",
            "global_max_pooling1d_4 (GlobalM (None, 400)          0           conv1d_4[0][0]                   \n",
            "__________________________________________________________________________________________________\n",
            "global_max_pooling1d_5 (GlobalM (None, 400)          0           conv1d_5[0][0]                   \n",
            "__________________________________________________________________________________________________\n",
            "global_max_pooling1d_6 (GlobalM (None, 400)          0           conv1d_6[0][0]                   \n",
            "__________________________________________________________________________________________________\n",
            "concatenate_2 (Concatenate)     (None, 1200)         0           global_max_pooling1d_4[0][0]     \n",
            "                                                                 global_max_pooling1d_5[0][0]     \n",
            "                                                                 global_max_pooling1d_6[0][0]     \n",
            "__________________________________________________________________________________________________\n",
            "dense_3 (Dense)                 (None, 10)           12010       concatenate_2[0][0]              \n",
            "__________________________________________________________________________________________________\n",
            "dropout_2 (Dropout)             (None, 10)           0           dense_3[0][0]                    \n",
            "__________________________________________________________________________________________________\n",
            "dense_4 (Dense)                 (None, 1)            11          dropout_2[0][0]                  \n",
            "__________________________________________________________________________________________________\n",
            "activation_2 (Activation)       (None, 1)            0           dense_4[0][0]                    \n",
            "==================================================================================================\n",
            "Total params: 2,733,221\n",
            "Trainable params: 2,733,221\n",
            "Non-trainable params: 0\n",
            "__________________________________________________________________________________________________\n"
          ],
          "name": "stdout"
        }
      ]
    },
    {
      "cell_type": "code",
      "metadata": {
        "id": "Bqvp2zJHEIwN",
        "colab_type": "code",
        "outputId": "b7ded283-28eb-4eac-852f-58a43a92f1c7",
        "colab": {
          "base_uri": "https://localhost:8080/",
          "height": 1000
        }
      },
      "source": [
        "history = model.fit(x_train_seq, y_train, batch_size=64, epochs=80,validation_data=(x_val_seq, y_validation), verbose=1)"
      ],
      "execution_count": 34,
      "outputs": [
        {
          "output_type": "stream",
          "text": [
            "Train on 53494 samples, validate on 6687 samples\n",
            "Epoch 1/80\n",
            "53494/53494 [==============================] - 14s 268us/step - loss: 0.6995 - acc: 0.5052 - val_loss: 0.6924 - val_acc: 0.5122\n",
            "Epoch 2/80\n",
            "53494/53494 [==============================] - 14s 257us/step - loss: 0.6906 - acc: 0.5199 - val_loss: 0.6898 - val_acc: 0.5195\n",
            "Epoch 3/80\n",
            "53494/53494 [==============================] - 14s 260us/step - loss: 0.6858 - acc: 0.5323 - val_loss: 0.6872 - val_acc: 0.5331\n",
            "Epoch 4/80\n",
            "53494/53494 [==============================] - 14s 257us/step - loss: 0.6799 - acc: 0.5487 - val_loss: 0.6836 - val_acc: 0.5496\n",
            "Epoch 5/80\n",
            "53494/53494 [==============================] - 14s 253us/step - loss: 0.6729 - acc: 0.5681 - val_loss: 0.6800 - val_acc: 0.5629\n",
            "Epoch 6/80\n",
            "53494/53494 [==============================] - 13s 250us/step - loss: 0.6663 - acc: 0.5860 - val_loss: 0.6765 - val_acc: 0.5790\n",
            "Epoch 7/80\n",
            "53494/53494 [==============================] - 13s 252us/step - loss: 0.6588 - acc: 0.6030 - val_loss: 0.6723 - val_acc: 0.5892\n",
            "Epoch 8/80\n",
            "53494/53494 [==============================] - 14s 254us/step - loss: 0.6512 - acc: 0.6184 - val_loss: 0.6686 - val_acc: 0.5944\n",
            "Epoch 9/80\n",
            "53494/53494 [==============================] - 14s 255us/step - loss: 0.6437 - acc: 0.6354 - val_loss: 0.6649 - val_acc: 0.6094\n",
            "Epoch 10/80\n",
            "53494/53494 [==============================] - 14s 254us/step - loss: 0.6355 - acc: 0.6503 - val_loss: 0.6612 - val_acc: 0.6082\n",
            "Epoch 11/80\n",
            "53494/53494 [==============================] - 14s 253us/step - loss: 0.6279 - acc: 0.6629 - val_loss: 0.6575 - val_acc: 0.6242\n",
            "Epoch 12/80\n",
            "53494/53494 [==============================] - 14s 254us/step - loss: 0.6204 - acc: 0.6732 - val_loss: 0.6538 - val_acc: 0.6312\n",
            "Epoch 13/80\n",
            "53494/53494 [==============================] - 14s 254us/step - loss: 0.6116 - acc: 0.6903 - val_loss: 0.6496 - val_acc: 0.6342\n",
            "Epoch 14/80\n",
            "53494/53494 [==============================] - 14s 255us/step - loss: 0.6039 - acc: 0.6985 - val_loss: 0.6455 - val_acc: 0.6405\n",
            "Epoch 15/80\n",
            "53494/53494 [==============================] - 14s 254us/step - loss: 0.5961 - acc: 0.7087 - val_loss: 0.6414 - val_acc: 0.6454\n",
            "Epoch 16/80\n",
            "53494/53494 [==============================] - 14s 253us/step - loss: 0.5873 - acc: 0.7217 - val_loss: 0.6377 - val_acc: 0.6537\n",
            "Epoch 17/80\n",
            "53494/53494 [==============================] - 14s 254us/step - loss: 0.5798 - acc: 0.7319 - val_loss: 0.6332 - val_acc: 0.6569\n",
            "Epoch 18/80\n",
            "53494/53494 [==============================] - 14s 253us/step - loss: 0.5716 - acc: 0.7418 - val_loss: 0.6290 - val_acc: 0.6635\n",
            "Epoch 19/80\n",
            "53494/53494 [==============================] - 14s 254us/step - loss: 0.5627 - acc: 0.7510 - val_loss: 0.6247 - val_acc: 0.6692\n",
            "Epoch 20/80\n",
            "53494/53494 [==============================] - 14s 254us/step - loss: 0.5537 - acc: 0.7610 - val_loss: 0.6196 - val_acc: 0.6789\n",
            "Epoch 21/80\n",
            "53494/53494 [==============================] - 14s 254us/step - loss: 0.5452 - acc: 0.7689 - val_loss: 0.6152 - val_acc: 0.6819\n",
            "Epoch 22/80\n",
            "53494/53494 [==============================] - 14s 254us/step - loss: 0.5365 - acc: 0.7758 - val_loss: 0.6110 - val_acc: 0.6885\n",
            "Epoch 23/80\n",
            "53494/53494 [==============================] - 14s 254us/step - loss: 0.5278 - acc: 0.7836 - val_loss: 0.6065 - val_acc: 0.6910\n",
            "Epoch 24/80\n",
            "53494/53494 [==============================] - 14s 254us/step - loss: 0.5195 - acc: 0.7904 - val_loss: 0.6012 - val_acc: 0.6967\n",
            "Epoch 25/80\n",
            "53494/53494 [==============================] - 14s 254us/step - loss: 0.5102 - acc: 0.7965 - val_loss: 0.5979 - val_acc: 0.7063\n",
            "Epoch 26/80\n",
            "53494/53494 [==============================] - 14s 254us/step - loss: 0.5021 - acc: 0.8039 - val_loss: 0.5927 - val_acc: 0.7094\n",
            "Epoch 27/80\n",
            "53494/53494 [==============================] - 14s 254us/step - loss: 0.4930 - acc: 0.8091 - val_loss: 0.5882 - val_acc: 0.7103\n",
            "Epoch 28/80\n",
            "53494/53494 [==============================] - 14s 254us/step - loss: 0.4833 - acc: 0.8147 - val_loss: 0.5836 - val_acc: 0.7147\n",
            "Epoch 29/80\n",
            "53494/53494 [==============================] - 14s 254us/step - loss: 0.4753 - acc: 0.8207 - val_loss: 0.5794 - val_acc: 0.7172\n",
            "Epoch 30/80\n",
            "53494/53494 [==============================] - 14s 255us/step - loss: 0.4665 - acc: 0.8252 - val_loss: 0.5750 - val_acc: 0.7217\n",
            "Epoch 31/80\n",
            "53494/53494 [==============================] - 14s 255us/step - loss: 0.4580 - acc: 0.8292 - val_loss: 0.5702 - val_acc: 0.7253\n",
            "Epoch 32/80\n",
            "53494/53494 [==============================] - 14s 255us/step - loss: 0.4495 - acc: 0.8350 - val_loss: 0.5659 - val_acc: 0.7305\n",
            "Epoch 33/80\n",
            "53494/53494 [==============================] - 14s 254us/step - loss: 0.4422 - acc: 0.8382 - val_loss: 0.5616 - val_acc: 0.7355\n",
            "Epoch 34/80\n",
            "53494/53494 [==============================] - 14s 254us/step - loss: 0.4326 - acc: 0.8439 - val_loss: 0.5577 - val_acc: 0.7370\n",
            "Epoch 35/80\n",
            "53494/53494 [==============================] - 14s 254us/step - loss: 0.4235 - acc: 0.8519 - val_loss: 0.5532 - val_acc: 0.7395\n",
            "Epoch 36/80\n",
            "53494/53494 [==============================] - 14s 254us/step - loss: 0.4150 - acc: 0.8540 - val_loss: 0.5491 - val_acc: 0.7423\n",
            "Epoch 37/80\n",
            "53494/53494 [==============================] - 14s 255us/step - loss: 0.4066 - acc: 0.8587 - val_loss: 0.5449 - val_acc: 0.7470\n",
            "Epoch 38/80\n",
            "53494/53494 [==============================] - 14s 255us/step - loss: 0.3983 - acc: 0.8619 - val_loss: 0.5419 - val_acc: 0.7431\n",
            "Epoch 39/80\n",
            "53494/53494 [==============================] - 14s 253us/step - loss: 0.3914 - acc: 0.8662 - val_loss: 0.5380 - val_acc: 0.7492\n",
            "Epoch 40/80\n",
            "53494/53494 [==============================] - 14s 253us/step - loss: 0.3826 - acc: 0.8695 - val_loss: 0.5340 - val_acc: 0.7539\n",
            "Epoch 41/80\n",
            "53494/53494 [==============================] - 14s 254us/step - loss: 0.3734 - acc: 0.8744 - val_loss: 0.5301 - val_acc: 0.7562\n",
            "Epoch 42/80\n",
            "53494/53494 [==============================] - 14s 254us/step - loss: 0.3666 - acc: 0.8775 - val_loss: 0.5275 - val_acc: 0.7543\n",
            "Epoch 43/80\n",
            "53494/53494 [==============================] - 14s 255us/step - loss: 0.3574 - acc: 0.8823 - val_loss: 0.5244 - val_acc: 0.7574\n",
            "Epoch 44/80\n",
            "53494/53494 [==============================] - 14s 254us/step - loss: 0.3515 - acc: 0.8841 - val_loss: 0.5205 - val_acc: 0.7597\n",
            "Epoch 45/80\n",
            "53494/53494 [==============================] - 14s 253us/step - loss: 0.3430 - acc: 0.8864 - val_loss: 0.5165 - val_acc: 0.7625\n",
            "Epoch 46/80\n",
            "53494/53494 [==============================] - 14s 253us/step - loss: 0.3347 - acc: 0.8896 - val_loss: 0.5148 - val_acc: 0.7633\n",
            "Epoch 47/80\n",
            "53494/53494 [==============================] - 14s 254us/step - loss: 0.3272 - acc: 0.8913 - val_loss: 0.5109 - val_acc: 0.7658\n",
            "Epoch 48/80\n",
            "53494/53494 [==============================] - 14s 254us/step - loss: 0.3186 - acc: 0.8973 - val_loss: 0.5089 - val_acc: 0.7651\n",
            "Epoch 49/80\n",
            "53494/53494 [==============================] - 14s 253us/step - loss: 0.3126 - acc: 0.8992 - val_loss: 0.5053 - val_acc: 0.7688\n",
            "Epoch 50/80\n",
            "53494/53494 [==============================] - 14s 253us/step - loss: 0.3053 - acc: 0.9027 - val_loss: 0.5025 - val_acc: 0.7727\n",
            "Epoch 51/80\n",
            "53494/53494 [==============================] - 14s 253us/step - loss: 0.2984 - acc: 0.9051 - val_loss: 0.5005 - val_acc: 0.7722\n",
            "Epoch 52/80\n",
            "53494/53494 [==============================] - 14s 253us/step - loss: 0.2899 - acc: 0.9094 - val_loss: 0.5033 - val_acc: 0.7645\n",
            "Epoch 53/80\n",
            "53494/53494 [==============================] - 14s 253us/step - loss: 0.2821 - acc: 0.9106 - val_loss: 0.4945 - val_acc: 0.7785\n",
            "Epoch 54/80\n",
            "53494/53494 [==============================] - 14s 254us/step - loss: 0.2762 - acc: 0.9129 - val_loss: 0.4950 - val_acc: 0.7737\n",
            "Epoch 55/80\n",
            "53494/53494 [==============================] - 14s 254us/step - loss: 0.2700 - acc: 0.9154 - val_loss: 0.4912 - val_acc: 0.7809\n",
            "Epoch 56/80\n",
            "53494/53494 [==============================] - 14s 253us/step - loss: 0.2631 - acc: 0.9161 - val_loss: 0.4925 - val_acc: 0.7751\n",
            "Epoch 57/80\n",
            "53494/53494 [==============================] - 14s 252us/step - loss: 0.2563 - acc: 0.9201 - val_loss: 0.4862 - val_acc: 0.7844\n",
            "Epoch 58/80\n",
            "53494/53494 [==============================] - 14s 253us/step - loss: 0.2502 - acc: 0.9216 - val_loss: 0.4845 - val_acc: 0.7859\n",
            "Epoch 59/80\n",
            "53494/53494 [==============================] - 15s 272us/step - loss: 0.2437 - acc: 0.9245 - val_loss: 0.4852 - val_acc: 0.7815\n",
            "Epoch 60/80\n",
            "53494/53494 [==============================] - 14s 255us/step - loss: 0.2374 - acc: 0.9263 - val_loss: 0.4848 - val_acc: 0.7809\n",
            "Epoch 61/80\n",
            "53494/53494 [==============================] - 14s 256us/step - loss: 0.2318 - acc: 0.9274 - val_loss: 0.4832 - val_acc: 0.7873\n",
            "Epoch 62/80\n",
            "53494/53494 [==============================] - 14s 256us/step - loss: 0.2256 - acc: 0.9308 - val_loss: 0.4816 - val_acc: 0.7888\n",
            "Epoch 63/80\n",
            "53494/53494 [==============================] - 14s 256us/step - loss: 0.2186 - acc: 0.9326 - val_loss: 0.4862 - val_acc: 0.7776\n",
            "Epoch 64/80\n",
            "53494/53494 [==============================] - 14s 256us/step - loss: 0.2145 - acc: 0.9351 - val_loss: 0.4830 - val_acc: 0.7863\n",
            "Epoch 65/80\n",
            "53494/53494 [==============================] - 14s 255us/step - loss: 0.2084 - acc: 0.9363 - val_loss: 0.4805 - val_acc: 0.7909\n",
            "Epoch 66/80\n",
            "53494/53494 [==============================] - 14s 256us/step - loss: 0.2032 - acc: 0.9383 - val_loss: 0.4809 - val_acc: 0.7882\n",
            "Epoch 67/80\n",
            "53494/53494 [==============================] - 14s 256us/step - loss: 0.1959 - acc: 0.9416 - val_loss: 0.4840 - val_acc: 0.7845\n",
            "Epoch 68/80\n",
            "53494/53494 [==============================] - 14s 256us/step - loss: 0.1920 - acc: 0.9412 - val_loss: 0.4814 - val_acc: 0.7930\n",
            "Epoch 69/80\n",
            "53494/53494 [==============================] - 14s 256us/step - loss: 0.1879 - acc: 0.9417 - val_loss: 0.4833 - val_acc: 0.7899\n",
            "Epoch 70/80\n",
            "53494/53494 [==============================] - 14s 255us/step - loss: 0.1829 - acc: 0.9448 - val_loss: 0.4813 - val_acc: 0.7968\n",
            "Epoch 71/80\n",
            "53494/53494 [==============================] - 14s 255us/step - loss: 0.1784 - acc: 0.9461 - val_loss: 0.4846 - val_acc: 0.7927\n",
            "Epoch 72/80\n",
            "53494/53494 [==============================] - 14s 256us/step - loss: 0.1740 - acc: 0.9467 - val_loss: 0.4856 - val_acc: 0.7932\n",
            "Epoch 73/80\n",
            "53494/53494 [==============================] - 14s 257us/step - loss: 0.1692 - acc: 0.9484 - val_loss: 0.4849 - val_acc: 0.7935\n",
            "Epoch 74/80\n",
            "53494/53494 [==============================] - 14s 256us/step - loss: 0.1635 - acc: 0.9494 - val_loss: 0.4900 - val_acc: 0.7848\n",
            "Epoch 75/80\n",
            "53494/53494 [==============================] - 14s 257us/step - loss: 0.1600 - acc: 0.9506 - val_loss: 0.4843 - val_acc: 0.8026\n",
            "Epoch 76/80\n",
            "53494/53494 [==============================] - 14s 256us/step - loss: 0.1567 - acc: 0.9513 - val_loss: 0.4882 - val_acc: 0.7993\n",
            "Epoch 77/80\n",
            "53494/53494 [==============================] - 14s 258us/step - loss: 0.1525 - acc: 0.9535 - val_loss: 0.4923 - val_acc: 0.7918\n",
            "Epoch 78/80\n",
            "53494/53494 [==============================] - 14s 257us/step - loss: 0.1491 - acc: 0.9532 - val_loss: 0.4928 - val_acc: 0.7963\n",
            "Epoch 79/80\n",
            "53494/53494 [==============================] - 14s 257us/step - loss: 0.1456 - acc: 0.9552 - val_loss: 0.4962 - val_acc: 0.7932\n",
            "Epoch 80/80\n",
            "53494/53494 [==============================] - 14s 256us/step - loss: 0.1406 - acc: 0.9567 - val_loss: 0.4997 - val_acc: 0.7942\n"
          ],
          "name": "stdout"
        }
      ]
    },
    {
      "cell_type": "code",
      "metadata": {
        "id": "JB7CE8r_Vgit",
        "colab_type": "code",
        "outputId": "42cd3af0-fde6-4642-ad24-48457b79b002",
        "colab": {
          "base_uri": "https://localhost:8080/",
          "height": 294
        }
      },
      "source": [
        "plt.plot(history.history['acc'])\n",
        "plt.plot(history.history['val_acc'])\n",
        "plt.title('model accuracy')\n",
        "plt.ylabel('accuracy')\n",
        "plt.xlabel('epoch')\n",
        "plt.legend(['train', 'val'], loc='upper left')\n",
        "plt.show()"
      ],
      "execution_count": 35,
      "outputs": [
        {
          "output_type": "display_data",
          "data": {
            "image/png": "[encoded data removed]",
            "text/plain": [
              "<Figure size 432x288 with 1 Axes>"
            ]
          },
          "metadata": {
            "tags": [],
            "image/png": {
              "width": 425,
              "height": 277
            }
          }
        }
      ]
    },
    {
      "cell_type": "code",
      "metadata": {
        "id": "enzd31J-Hs06",
        "colab_type": "code",
        "outputId": "8bfadbf3-5a16-492d-a075-f773b727f44c",
        "colab": {
          "base_uri": "https://localhost:8080/",
          "height": 294
        }
      },
      "source": [
        "plt.plot(history.history['loss'])\n",
        "plt.plot(history.history['val_loss'])\n",
        "plt.title('model loss')\n",
        "plt.ylabel('loss')\n",
        "plt.xlabel('epoch')\n",
        "plt.legend(['train', 'val'], loc='upper left')\n",
        "plt.show()\n"
      ],
      "execution_count": 36,
      "outputs": [
        {
          "output_type": "display_data",
          "data": {
            "image/png": "[encoded data removed]",
            "text/plain": [
              "<Figure size 432x288 with 1 Axes>"
            ]
          },
          "metadata": {
            "tags": [],
            "image/png": {
              "width": 425,
              "height": 277
            }
          }
        }
      ]
    },
    {
      "cell_type": "code",
      "metadata": {
        "id": "1d7WYKgXH0o5",
        "colab_type": "code",
        "outputId": "f68cb961-221e-4bb6-95c7-e13d7ac85f44",
        "colab": {
          "base_uri": "https://localhost:8080/",
          "height": 34
        }
      },
      "source": [
        "import os\n",
        "save_dir = os.path.join(os.getcwd(), 'saved_models')\n",
        "model_name = 'Word2vecModel80Epoch.hdf5'\n",
        "\n",
        "if not os.path.isdir(save_dir):\n",
        "    os.makedirs(save_dir)\n",
        "model_path = os.path.join(save_dir, model_name)\n",
        "model.save(model_path)\n",
        "\n",
        "print('Saved trained model at %s ' % model_path)"
      ],
      "execution_count": 37,
      "outputs": [
        {
          "output_type": "stream",
          "text": [
            "Saved trained model at /content/saved_models/Word2vecModel80Epoch.hdf5 \n"
          ],
          "name": "stdout"
        }
      ]
    },
    {
      "cell_type": "code",
      "metadata": {
        "id": "DQnvrDBZIZSC",
        "colab_type": "code",
        "colab": {}
      },
      "source": [
        "from google.colab import auth\n",
        "auth.authenticate_user()"
      ],
      "execution_count": 0,
      "outputs": []
    },
    {
      "cell_type": "code",
      "metadata": {
        "id": "8wVmRb4LIynY",
        "colab_type": "code",
        "outputId": "9e9dd552-3bd8-4565-f09b-664918987b05",
        "colab": {
          "base_uri": "https://localhost:8080/",
          "height": 524
        }
      },
      "source": [
        "from googleapiclient.discovery import build\n",
        "drive_service = build('drive', 'v3')"
      ],
      "execution_count": 39,
      "outputs": [
        {
          "output_type": "stream",
          "text": [
            "W0724 16:44:24.260180 139992290359168 __init__.py:44] file_cache is unavailable when using oauth2client >= 4.0.0 or google-auth\n",
            "Traceback (most recent call last):\n",
            "  File \"/usr/local/lib/python3.6/dist-packages/googleapiclient/discovery_cache/__init__.py\", line 36, in autodetect\n",
            "    from google.appengine.api import memcache\n",
            "ModuleNotFoundError: No module named 'google.appengine'\n",
            "\n",
            "During handling of the above exception, another exception occurred:\n",
            "\n",
            "Traceback (most recent call last):\n",
            "  File \"/usr/local/lib/python3.6/dist-packages/googleapiclient/discovery_cache/file_cache.py\", line 33, in <module>\n",
            "    from oauth2client.contrib.locked_file import LockedFile\n",
            "ModuleNotFoundError: No module named 'oauth2client.contrib.locked_file'\n",
            "\n",
            "During handling of the above exception, another exception occurred:\n",
            "\n",
            "Traceback (most recent call last):\n",
            "  File \"/usr/local/lib/python3.6/dist-packages/googleapiclient/discovery_cache/file_cache.py\", line 37, in <module>\n",
            "    from oauth2client.locked_file import LockedFile\n",
            "ModuleNotFoundError: No module named 'oauth2client.locked_file'\n",
            "\n",
            "During handling of the above exception, another exception occurred:\n",
            "\n",
            "Traceback (most recent call last):\n",
            "  File \"/usr/local/lib/python3.6/dist-packages/googleapiclient/discovery_cache/__init__.py\", line 41, in autodetect\n",
            "    from . import file_cache\n",
            "  File \"/usr/local/lib/python3.6/dist-packages/googleapiclient/discovery_cache/file_cache.py\", line 41, in <module>\n",
            "    'file_cache is unavailable when using oauth2client >= 4.0.0 or google-auth')\n",
            "ImportError: file_cache is unavailable when using oauth2client >= 4.0.0 or google-auth\n",
            "W0724 16:44:24.350614 139992290359168 _default.py:280] No project ID could be determined. Consider running `gcloud config set project` or setting the GOOGLE_CLOUD_PROJECT environment variable\n"
          ],
          "name": "stderr"
        }
      ]
    },
    {
      "cell_type": "code",
      "metadata": {
        "id": "JsB8IpO9JF7x",
        "colab_type": "code",
        "outputId": "8fe30d1a-0c4f-4a05-b812-7d883fe297c3",
        "colab": {
          "base_uri": "https://localhost:8080/",
          "height": 34
        }
      },
      "source": [
        "from googleapiclient.http import MediaFileUpload\n",
        "\n",
        "file_metadata = {\n",
        "  'name': 'Word2vecModel80Epoch.hdf5',\n",
        "  'mimeType': 'text/plain'\n",
        "}\n",
        "media = MediaFileUpload('/content/saved_models/Word2vecModel80Epoch.hdf5', \n",
        "                        mimetype='text/plain',\n",
        "                        resumable=True)\n",
        "created = drive_service.files().create(body=file_metadata,\n",
        "                                       media_body=media,\n",
        "                                       fields='id').execute()\n",
        "print('File ID: {}'.format(created.get('id')))"
      ],
      "execution_count": 40,
      "outputs": [
        {
          "output_type": "stream",
          "text": [
            "File ID: 1cBF_jWe9f0kuMtC6sS6wU394-TG8RHAR\n"
          ],
          "name": "stdout"
        }
      ]
    },
    {
      "cell_type": "code",
      "metadata": {
        "id": "5_YfoknYP9OO",
        "colab_type": "code",
        "outputId": "a12daa1b-5856-477c-a30c-003e30468be4",
        "colab": {
          "base_uri": "https://localhost:8080/",
          "height": 50
        }
      },
      "source": [
        "from keras.models import load_model\n",
        "\n",
        "model = load_model(model_path)\n",
        "model.evaluate(x=x_val_seq, y=y_validation)"
      ],
      "execution_count": 44,
      "outputs": [
        {
          "output_type": "stream",
          "text": [
            "6687/6687 [==============================] - 1s 126us/step\n"
          ],
          "name": "stdout"
        },
        {
          "output_type": "execute_result",
          "data": {
            "text/plain": [
              "[0.49974147635617205, 0.794227605837957]"
            ]
          },
          "metadata": {
            "tags": []
          },
          "execution_count": 44
        }
      ]
    },
    {
      "cell_type": "code",
      "metadata": {
        "id": "08bSg_fuOZhB",
        "colab_type": "code",
        "colab": {}
      },
      "source": [
        "yhat_cnn = model.predict(x_val_seq)"
      ],
      "execution_count": 0,
      "outputs": []
    },
    {
      "cell_type": "code",
      "metadata": {
        "id": "9fuJ2M3q9ICN",
        "colab_type": "code",
        "colab": {
          "base_uri": "https://localhost:8080/",
          "height": 465
        },
        "outputId": "7907182b-7809-46e1-ead5-6cbbca2f50ac"
      },
      "source": [
        "from sklearn.metrics import roc_curve, auc\n",
        "\n",
        "fpr_cnn, tpr_cnn, threshold = roc_curve(y_validation, yhat_cnn)\n",
        "roc_auc_nn = auc(fpr_cnn, tpr_cnn)\n",
        "plt.figure(figsize=(8,7))\n",
        "#plt.plot(fpr, tpr, label='tfidf-logit (area = %0.3f)' % roc_auc, linewidth=2)\n",
        "plt.plot(fpr_cnn, tpr_cnn, label='w2v-CNN (area = %0.3f)' % roc_auc_nn, linewidth=2)\n",
        "\n",
        "plt.plot([0, 1], [0, 1], 'k--', linewidth=2)\n",
        "plt.xlim([-0.05, 1.0])\n",
        "plt.ylim([-0.05, 1.05])\n",
        "plt.xlabel('False Positive Rate', fontsize=18)\n",
        "plt.ylabel('True Positive Rate', fontsize=18)\n",
        "plt.title('Receiver operating characteristic: is positive', fontsize=18)\n",
        "plt.legend(loc=\"lower right\")\n",
        "plt.show()\n"
      ],
      "execution_count": 54,
      "outputs": [
        {
          "output_type": "display_data",
          "data": {
            "image/png": "[encoded data removed]",
            "text/plain": [
              "<Figure size 576x504 with 1 Axes>"
            ]
          },
          "metadata": {
            "tags": [],
            "image/png": {
              "width": 563,
              "height": 448
            }
          }
        }
      ]
    },
    {
      "cell_type": "code",
      "metadata": {
        "id": "A0PYbHacPNeb",
        "colab_type": "code",
        "colab": {}
      },
      "source": [
        ""
      ],
      "execution_count": 0,
      "outputs": []
    }
  ]
}