{
  "nbformat": 4,
  "nbformat_minor": 0,
  "metadata": {
    "colab": {
      "name": "Word2VecCustomCNN.ipynb",
      "version": "0.3.2",
      "provenance": [],
      "include_colab_link": true
    },
    "kernelspec": {
      "name": "python3",
      "display_name": "Python 3"
    },
    "accelerator": "GPU"
  },
  "cells": [
    {
      "cell_type": "markdown",
      "metadata": {
        "id": "view-in-github",
        "colab_type": "text"
      },
      "source": [
        "<a href=\"https://colab.research.google.com/github/sysadminamit/HelpfulnessPrediction-of-Online-Review/blob/master/Word2VecCustomCNN.ipynb\" target=\"_parent\"><img src=\"https://colab.research.google.com/assets/colab-badge.svg\" alt=\"Open In Colab\"/></a>"
      ]
    },
    {
      "cell_type": "code",
      "metadata": {
        "id": "PmzOfqOdAJWR",
        "colab_type": "code",
        "outputId": "6853e12e-93f5-46a5-af1e-ae7b96980e60",
        "colab": {
          "base_uri": "https://localhost:8080/",
          "height": 121
        }
      },
      "source": [
        "from google.colab import drive\n",
        "drive.mount('/content/gdrive')"
      ],
      "execution_count": 0,
      "outputs": [
        {
          "output_type": "stream",
          "text": [
            "Go to this URL in a browser: https://accounts.google.com/o/oauth2/auth?client_id=947318989803-6bn6qk8qdgf4n4g3pfee6491hc0brc4i.apps.googleusercontent.com&redirect_uri=urn%3Aietf%3Awg%3Aoauth%3A2.0%3Aoob&scope=email%20https%3A%2F%2Fwww.googleapis.com%2Fauth%2Fdocs.test%20https%3A%2F%2Fwww.googleapis.com%2Fauth%2Fdrive%20https%3A%2F%2Fwww.googleapis.com%2Fauth%2Fdrive.photos.readonly%20https%3A%2F%2Fwww.googleapis.com%2Fauth%2Fpeopleapi.readonly&response_type=code\n",
            "\n",
            "Enter your authorization code:\n",
            "··········\n",
            "Mounted at /content/gdrive\n"
          ],
          "name": "stdout"
        }
      ]
    },
    {
      "cell_type": "code",
      "metadata": {
        "id": "MRAl-E3_Ac00",
        "colab_type": "code",
        "outputId": "c4aac531-5e7f-48a8-ac19-80d4efef15f6",
        "colab": {
          "base_uri": "https://localhost:8080/",
          "height": 195
        }
      },
      "source": [
        "import numpy as np\n",
        "import matplotlib.pyplot as plt\n",
        "plt.style.use('fivethirtyeight')\n",
        "\n",
        "%matplotlib inline\n",
        "%config InlineBackend.figure_format = 'retina'\n",
        "import pandas as pd\n",
        "df=pd.read_csv('gdrive/My Drive/AmazonElectronicsProductReviewClean.csv')\n",
        "df.head()"
      ],
      "execution_count": 0,
      "outputs": [
        {
          "output_type": "execute_result",
          "data": {
            "text/html": [
              "<div>\n",
              "<style scoped>\n",
              "    .dataframe tbody tr th:only-of-type {\n",
              "        vertical-align: middle;\n",
              "    }\n",
              "\n",
              "    .dataframe tbody tr th {\n",
              "        vertical-align: top;\n",
              "    }\n",
              "\n",
              "    .dataframe thead th {\n",
              "        text-align: right;\n",
              "    }\n",
              "</style>\n",
              "<table border=\"1\" class=\"dataframe\">\n",
              "  <thead>\n",
              "    <tr style=\"text-align: right;\">\n",
              "      <th></th>\n",
              "      <th>Unnamed: 0</th>\n",
              "      <th>overall</th>\n",
              "      <th>Helpfulfactor</th>\n",
              "      <th>review</th>\n",
              "      <th>Summary</th>\n",
              "    </tr>\n",
              "  </thead>\n",
              "  <tbody>\n",
              "    <tr>\n",
              "      <th>0</th>\n",
              "      <td>0</td>\n",
              "      <td>1</td>\n",
              "      <td>1.0</td>\n",
              "      <td>excite especially since every time refuse turn...</td>\n",
              "      <td>very disappointed</td>\n",
              "    </tr>\n",
              "    <tr>\n",
              "      <th>1</th>\n",
              "      <td>1</td>\n",
              "      <td>3</td>\n",
              "      <td>1.0</td>\n",
              "      <td>enter multiple stop vias nowhere near userfrie...</td>\n",
              "      <td>1st impression</td>\n",
              "    </tr>\n",
              "    <tr>\n",
              "      <th>2</th>\n",
              "      <td>2</td>\n",
              "      <td>2</td>\n",
              "      <td>1.0</td>\n",
              "      <td>might think conjested city situation might get...</td>\n",
              "      <td>great grafics poor gps</td>\n",
              "    </tr>\n",
              "    <tr>\n",
              "      <th>3</th>\n",
              "      <td>3</td>\n",
              "      <td>5</td>\n",
              "      <td>1.0</td>\n",
              "      <td>hd picture samsung tv excellent</td>\n",
              "      <td>hdmi nook adapter cable</td>\n",
              "    </tr>\n",
              "    <tr>\n",
              "      <th>4</th>\n",
              "      <td>4</td>\n",
              "      <td>5</td>\n",
              "      <td>1.0</td>\n",
              "      <td>warn</td>\n",
              "      <td>this works great but read the details</td>\n",
              "    </tr>\n",
              "  </tbody>\n",
              "</table>\n",
              "</div>"
            ],
            "text/plain": [
              "   Unnamed: 0  ...                                Summary\n",
              "0           0  ...                      very disappointed\n",
              "1           1  ...                         1st impression\n",
              "2           2  ...                 great grafics poor gps\n",
              "3           3  ...                hdmi nook adapter cable\n",
              "4           4  ...  this works great but read the details\n",
              "\n",
              "[5 rows x 5 columns]"
            ]
          },
          "metadata": {
            "tags": []
          },
          "execution_count": 33
        }
      ]
    },
    {
      "cell_type": "code",
      "metadata": {
        "id": "eijMg0CIArrQ",
        "colab_type": "code",
        "outputId": "b60d5613-96f4-4dec-b2cd-9cfb207237b3",
        "colab": {
          "base_uri": "https://localhost:8080/",
          "height": 77
        }
      },
      "source": [
        "df = df.sample(n = 50000)\n",
        "df.head(1)"
      ],
      "execution_count": 0,
      "outputs": [
        {
          "output_type": "execute_result",
          "data": {
            "text/html": [
              "<div>\n",
              "<style scoped>\n",
              "    .dataframe tbody tr th:only-of-type {\n",
              "        vertical-align: middle;\n",
              "    }\n",
              "\n",
              "    .dataframe tbody tr th {\n",
              "        vertical-align: top;\n",
              "    }\n",
              "\n",
              "    .dataframe thead th {\n",
              "        text-align: right;\n",
              "    }\n",
              "</style>\n",
              "<table border=\"1\" class=\"dataframe\">\n",
              "  <thead>\n",
              "    <tr style=\"text-align: right;\">\n",
              "      <th></th>\n",
              "      <th>Unnamed: 0</th>\n",
              "      <th>overall</th>\n",
              "      <th>Helpfulfactor</th>\n",
              "      <th>review</th>\n",
              "      <th>Summary</th>\n",
              "    </tr>\n",
              "  </thead>\n",
              "  <tbody>\n",
              "    <tr>\n",
              "      <th>373565</th>\n",
              "      <td>373642</td>\n",
              "      <td>5</td>\n",
              "      <td>1.0</td>\n",
              "      <td>perfect solution instal drive everything run m...</td>\n",
              "      <td>works great</td>\n",
              "    </tr>\n",
              "  </tbody>\n",
              "</table>\n",
              "</div>"
            ],
            "text/plain": [
              "        Unnamed: 0  ...      Summary\n",
              "373565      373642  ...  works great\n",
              "\n",
              "[1 rows x 5 columns]"
            ]
          },
          "metadata": {
            "tags": []
          },
          "execution_count": 34
        }
      ]
    },
    {
      "cell_type": "code",
      "metadata": {
        "id": "q0b5fhqbA2fh",
        "colab_type": "code",
        "outputId": "97df0ff4-2347-4812-9982-34481fab20e0",
        "colab": {
          "base_uri": "https://localhost:8080/",
          "height": 67
        }
      },
      "source": [
        "df['Helpfulfactor'].value_counts()"
      ],
      "execution_count": 0,
      "outputs": [
        {
          "output_type": "execute_result",
          "data": {
            "text/plain": [
              "1.0    33376\n",
              "0.0    16624\n",
              "Name: Helpfulfactor, dtype: int64"
            ]
          },
          "metadata": {
            "tags": []
          },
          "execution_count": 35
        }
      ]
    },
    {
      "cell_type": "code",
      "metadata": {
        "id": "ajCQvHJmA6md",
        "colab_type": "code",
        "outputId": "cf7c7a16-c454-472e-ff9b-97c6d0d2070e",
        "colab": {
          "base_uri": "https://localhost:8080/",
          "height": 67
        }
      },
      "source": [
        "from sklearn.utils import resample\n",
        "data_majority = df[df.Helpfulfactor == 1.0 ]\n",
        "data_minority = df[df.Helpfulfactor == 0.0 ]\n",
        "data_minority_upsampled = resample(data_minority, \n",
        "                                 replace=True,     # sample with replacement\n",
        "                                 n_samples=33376,    # to match majority class\n",
        "                                 random_state=123) # reproducible results\n",
        "df = pd.concat([data_majority, data_minority_upsampled])\n",
        "df['Helpfulfactor'].value_counts()"
      ],
      "execution_count": 0,
      "outputs": [
        {
          "output_type": "execute_result",
          "data": {
            "text/plain": [
              "0.0    33376\n",
              "1.0    33376\n",
              "Name: Helpfulfactor, dtype: int64"
            ]
          },
          "metadata": {
            "tags": []
          },
          "execution_count": 36
        }
      ]
    },
    {
      "cell_type": "code",
      "metadata": {
        "id": "h6BWMspJBAeP",
        "colab_type": "code",
        "outputId": "7f4a55bd-531f-4c1c-9d5c-1b9e9d708d2e",
        "colab": {
          "base_uri": "https://localhost:8080/",
          "height": 185
        }
      },
      "source": [
        "df.dropna(inplace=True)\n",
        "df.reset_index(drop=True,inplace=True)\n",
        "df.info()"
      ],
      "execution_count": 0,
      "outputs": [
        {
          "output_type": "stream",
          "text": [
            "<class 'pandas.core.frame.DataFrame'>\n",
            "RangeIndex: 66656 entries, 0 to 66655\n",
            "Data columns (total 5 columns):\n",
            "Unnamed: 0       66656 non-null int64\n",
            "overall          66656 non-null int64\n",
            "Helpfulfactor    66656 non-null float64\n",
            "review           66656 non-null object\n",
            "Summary          66656 non-null object\n",
            "dtypes: float64(1), int64(2), object(2)\n",
            "memory usage: 2.5+ MB\n"
          ],
          "name": "stdout"
        }
      ]
    },
    {
      "cell_type": "code",
      "metadata": {
        "id": "jhOBcX6CBLcV",
        "colab_type": "code",
        "colab": {}
      },
      "source": [
        "x = df.review\n",
        "y = df.Helpfulfactor"
      ],
      "execution_count": 0,
      "outputs": []
    },
    {
      "cell_type": "code",
      "metadata": {
        "id": "PPQEC92LBPVW",
        "colab_type": "code",
        "colab": {}
      },
      "source": [
        "from sklearn.model_selection import train_test_split\n",
        "SEED = 2000\n",
        "x_train, x_validation_and_test, y_train, y_validation_and_test = train_test_split(x, y, test_size=0.2, random_state=SEED)\n",
        "x_validation, x_test, y_validation, y_test = train_test_split(x_validation_and_test, y_validation_and_test, test_size=.5, random_state=SEED)"
      ],
      "execution_count": 0,
      "outputs": []
    },
    {
      "cell_type": "code",
      "metadata": {
        "id": "nxhwQBh6Bbuy",
        "colab_type": "code",
        "outputId": "eb67e85f-0a50-46b8-9dda-81696278f164",
        "colab": {
          "base_uri": "https://localhost:8080/",
          "height": 67
        }
      },
      "source": [
        "print (\"Train set has total {0} entries with {1:.2f}% negative, {2:.2f}% positive\".format(len(x_train),\n",
        "                                                                             (len(x_train[y_train == 0]) / (len(x_train)*1.))*100,\n",
        "                                                                            (len(x_train[y_train == 1]) / (len(x_train)*1.))*100))\n",
        "print( \"Validation set has total {0} entries with {1:.2f}% negative, {2:.2f}% positive\".format(len(x_validation),\n",
        "                                                                             (len(x_validation[y_validation == 0]) / (len(x_validation)*1.))*100,\n",
        "                                                                            (len(x_validation[y_validation == 1]) / (len(x_validation)*1.))*100))\n",
        "print( \"Test set has total {0} entries with {1:.2f}% negative, {2:.2f}% positive\".format(len(x_test),\n",
        "                                                                             (len(x_test[y_test == 0]) / (len(x_test)*1.))*100,\n",
        "                                                                            (len(x_test[y_test == 1]) / (len(x_test)*1.))*100))"
      ],
      "execution_count": 0,
      "outputs": [
        {
          "output_type": "stream",
          "text": [
            "Train set has total 53324 entries with 49.93% negative, 50.07% positive\n",
            "Validation set has total 6666 entries with 50.66% negative, 49.34% positive\n",
            "Test set has total 6666 entries with 50.06% negative, 49.94% positive\n"
          ],
          "name": "stdout"
        }
      ]
    },
    {
      "cell_type": "code",
      "metadata": {
        "id": "xZR-k7L-BhMf",
        "colab_type": "code",
        "colab": {}
      },
      "source": [
        "from tqdm import tqdm\n",
        "tqdm.pandas(desc=\"progress-bar\")\n",
        "import gensim\n",
        "from gensim.models.word2vec import Word2Vec\n",
        "from gensim.models.doc2vec import TaggedDocument\n",
        "import multiprocessing\n",
        "from sklearn import utils"
      ],
      "execution_count": 0,
      "outputs": []
    },
    {
      "cell_type": "code",
      "metadata": {
        "id": "XMw9YEAHBocs",
        "colab_type": "code",
        "colab": {}
      },
      "source": [
        "def labelize_review_ug(review,label):\n",
        "    result = []\n",
        "    prefix = label\n",
        "    for i, t in zip(review.index, review):\n",
        "        result.append(TaggedDocument(t.split(), [prefix + '_%s' % i]))\n",
        "    return result"
      ],
      "execution_count": 0,
      "outputs": []
    },
    {
      "cell_type": "code",
      "metadata": {
        "id": "a6sMb97SBtOZ",
        "colab_type": "code",
        "colab": {}
      },
      "source": [
        "all_x = pd.concat([x_train,x_validation,x_test])\n",
        "all_x_w2v = labelize_review_ug(all_x, 'all')"
      ],
      "execution_count": 0,
      "outputs": []
    },
    {
      "cell_type": "code",
      "metadata": {
        "id": "inqkWwCCBxot",
        "colab_type": "code",
        "outputId": "1449937b-81bb-48aa-ec7c-05f7a9baa111",
        "colab": {
          "base_uri": "https://localhost:8080/",
          "height": 34
        }
      },
      "source": [
        "cores = multiprocessing.cpu_count()\n",
        "model_ug_cbow = Word2Vec(sg=0, size=100, negative=5, window=2, min_count=2, workers=cores, alpha=0.065, min_alpha=0.065)\n",
        "model_ug_cbow.build_vocab([x.words for x in tqdm(all_x_w2v)])"
      ],
      "execution_count": 0,
      "outputs": [
        {
          "output_type": "stream",
          "text": [
            "100%|██████████| 66656/66656 [00:00<00:00, 2194642.65it/s]\n"
          ],
          "name": "stderr"
        }
      ]
    },
    {
      "cell_type": "code",
      "metadata": {
        "id": "omKq8fHMB4Iy",
        "colab_type": "code",
        "outputId": "91b92e3d-3a8c-4e35-8b90-a69c7a03d2ca",
        "colab": {
          "base_uri": "https://localhost:8080/",
          "height": 554
        }
      },
      "source": [
        "%%time\n",
        "for epoch in range(30):\n",
        "    model_ug_cbow.train(utils.shuffle([x.words for x in tqdm(all_x_w2v)]), total_examples=len(all_x_w2v), epochs=1)\n",
        "    model_ug_cbow.alpha -= 0.002\n",
        "    model_ug_cbow.min_alpha = model_ug_cbow.alpha"
      ],
      "execution_count": 0,
      "outputs": [
        {
          "output_type": "stream",
          "text": [
            "100%|██████████| 66656/66656 [00:00<00:00, 2191717.84it/s]\n",
            "100%|██████████| 66656/66656 [00:00<00:00, 1790177.03it/s]\n",
            "100%|██████████| 66656/66656 [00:00<00:00, 1912019.75it/s]\n",
            "100%|██████████| 66656/66656 [00:00<00:00, 2227356.24it/s]\n",
            "100%|██████████| 66656/66656 [00:00<00:00, 2019529.08it/s]\n",
            "100%|██████████| 66656/66656 [00:00<00:00, 2159484.70it/s]\n",
            "100%|██████████| 66656/66656 [00:00<00:00, 2205063.00it/s]\n",
            "100%|██████████| 66656/66656 [00:00<00:00, 2112650.77it/s]\n",
            "100%|██████████| 66656/66656 [00:00<00:00, 1828139.38it/s]\n",
            "100%|██████████| 66656/66656 [00:00<00:00, 2012348.14it/s]\n",
            "100%|██████████| 66656/66656 [00:00<00:00, 1725508.58it/s]\n",
            "100%|██████████| 66656/66656 [00:00<00:00, 2043053.50it/s]\n",
            "100%|██████████| 66656/66656 [00:00<00:00, 2027702.23it/s]\n",
            "100%|██████████| 66656/66656 [00:00<00:00, 1955962.69it/s]\n",
            "100%|██████████| 66656/66656 [00:00<00:00, 2128331.73it/s]\n",
            "100%|██████████| 66656/66656 [00:00<00:00, 2077253.92it/s]\n",
            "100%|██████████| 66656/66656 [00:00<00:00, 2124563.25it/s]\n",
            "100%|██████████| 66656/66656 [00:00<00:00, 2360043.96it/s]\n",
            "100%|██████████| 66656/66656 [00:00<00:00, 2154708.07it/s]\n",
            "100%|██████████| 66656/66656 [00:00<00:00, 2153596.01it/s]\n",
            "100%|██████████| 66656/66656 [00:00<00:00, 2305530.35it/s]\n",
            "100%|██████████| 66656/66656 [00:00<00:00, 2101518.60it/s]\n",
            "100%|██████████| 66656/66656 [00:00<00:00, 2051734.71it/s]\n",
            "100%|██████████| 66656/66656 [00:00<00:00, 2050169.96it/s]\n",
            "100%|██████████| 66656/66656 [00:00<00:00, 2045654.63it/s]\n",
            "100%|██████████| 66656/66656 [00:00<00:00, 2069427.58it/s]\n",
            "100%|██████████| 66656/66656 [00:00<00:00, 1996198.09it/s]\n",
            "100%|██████████| 66656/66656 [00:00<00:00, 1868270.88it/s]\n",
            "100%|██████████| 66656/66656 [00:00<00:00, 2157318.45it/s]\n",
            "100%|██████████| 66656/66656 [00:00<00:00, 2165523.09it/s]\n"
          ],
          "name": "stderr"
        },
        {
          "output_type": "stream",
          "text": [
            "CPU times: user 34 s, sys: 64.8 ms, total: 34.1 s\n",
            "Wall time: 19.1 s\n"
          ],
          "name": "stdout"
        }
      ]
    },
    {
      "cell_type": "code",
      "metadata": {
        "id": "Q4Lf5MWOB9W5",
        "colab_type": "code",
        "outputId": "b8546392-4fb7-498f-b53a-e7c37730c61b",
        "colab": {
          "base_uri": "https://localhost:8080/",
          "height": 34
        }
      },
      "source": [
        "model_ug_sg = Word2Vec(sg=1, size=100, negative=5, window=2, min_count=2, workers=cores, alpha=0.065, min_alpha=0.065)\n",
        "model_ug_sg.build_vocab([x.words for x in tqdm(all_x_w2v)])"
      ],
      "execution_count": 0,
      "outputs": [
        {
          "output_type": "stream",
          "text": [
            "100%|██████████| 66656/66656 [00:00<00:00, 1915478.14it/s]\n"
          ],
          "name": "stderr"
        }
      ]
    },
    {
      "cell_type": "code",
      "metadata": {
        "id": "AXDoJUH7CIOY",
        "colab_type": "code",
        "outputId": "d099d3c8-ab91-4d84-856d-3e7c2277d366",
        "colab": {
          "base_uri": "https://localhost:8080/",
          "height": 554
        }
      },
      "source": [
        "%%time\n",
        "for epoch in range(30):\n",
        "    model_ug_sg.train(utils.shuffle([x.words for x in tqdm(all_x_w2v)]), total_examples=len(all_x_w2v), epochs=1)\n",
        "    model_ug_sg.alpha -= 0.002\n",
        "    model_ug_sg.min_alpha = model_ug_sg.alpha"
      ],
      "execution_count": 0,
      "outputs": [
        {
          "output_type": "stream",
          "text": [
            "100%|██████████| 66656/66656 [00:00<00:00, 2000454.56it/s]\n",
            "100%|██████████| 66656/66656 [00:00<00:00, 2231338.26it/s]\n",
            "100%|██████████| 66656/66656 [00:00<00:00, 2014915.19it/s]\n",
            "100%|██████████| 66656/66656 [00:00<00:00, 2046702.93it/s]\n",
            "100%|██████████| 66656/66656 [00:00<00:00, 2309644.41it/s]\n",
            "100%|██████████| 66656/66656 [00:00<00:00, 2211989.20it/s]\n",
            "100%|██████████| 66656/66656 [00:00<00:00, 2107538.56it/s]\n",
            "100%|██████████| 66656/66656 [00:00<00:00, 2093822.29it/s]\n",
            "100%|██████████| 66656/66656 [00:00<00:00, 2215143.91it/s]\n",
            "100%|██████████| 66656/66656 [00:00<00:00, 2361299.74it/s]\n",
            "100%|██████████| 66656/66656 [00:00<00:00, 1998452.62it/s]\n",
            "100%|██████████| 66656/66656 [00:00<00:00, 2027937.56it/s]\n",
            "100%|██████████| 66656/66656 [00:00<00:00, 2242488.51it/s]\n",
            "100%|██████████| 66656/66656 [00:00<00:00, 2144312.99it/s]\n",
            "100%|██████████| 66656/66656 [00:00<00:00, 2097765.69it/s]\n",
            "100%|██████████| 66656/66656 [00:00<00:00, 2073002.84it/s]\n",
            "100%|██████████| 66656/66656 [00:00<00:00, 1871873.43it/s]\n",
            "100%|██████████| 66656/66656 [00:00<00:00, 1765476.28it/s]\n",
            "100%|██████████| 66656/66656 [00:00<00:00, 2322711.79it/s]\n",
            "100%|██████████| 66656/66656 [00:00<00:00, 2145827.15it/s]\n",
            "100%|██████████| 66656/66656 [00:00<00:00, 2080175.06it/s]\n",
            "100%|██████████| 66656/66656 [00:00<00:00, 1950463.43it/s]\n",
            "100%|██████████| 66656/66656 [00:00<00:00, 2128785.49it/s]\n",
            "100%|██████████| 66656/66656 [00:00<00:00, 1966114.11it/s]\n",
            "100%|██████████| 66656/66656 [00:00<00:00, 2265108.34it/s]\n",
            "100%|██████████| 66656/66656 [00:00<00:00, 1981357.78it/s]\n",
            "100%|██████████| 66656/66656 [00:00<00:00, 1880346.29it/s]\n",
            "100%|██████████| 66656/66656 [00:00<00:00, 1964235.47it/s]\n",
            "100%|██████████| 66656/66656 [00:00<00:00, 2372259.51it/s]\n",
            "100%|██████████| 66656/66656 [00:00<00:00, 2370992.05it/s]\n"
          ],
          "name": "stderr"
        },
        {
          "output_type": "stream",
          "text": [
            "CPU times: user 56.1 s, sys: 0 ns, total: 56.1 s\n",
            "Wall time: 30.3 s\n"
          ],
          "name": "stdout"
        }
      ]
    },
    {
      "cell_type": "code",
      "metadata": {
        "id": "4_Qgv4pXCNzB",
        "colab_type": "code",
        "outputId": "27c17370-a268-4e97-f3ee-4e32e7ecce5f",
        "colab": {
          "base_uri": "https://localhost:8080/",
          "height": 70
        }
      },
      "source": [
        "model_ug_cbow.save('w2v_model_ug_cbow.word2vec')\n",
        "model_ug_sg.save('w2v_model_ug_sg.word2vec')"
      ],
      "execution_count": 0,
      "outputs": [
        {
          "output_type": "stream",
          "text": [
            "/usr/local/lib/python3.6/dist-packages/smart_open/smart_open_lib.py:398: UserWarning: This function is deprecated, use smart_open.open instead. See the migration notes for details: https://github.com/RaRe-Technologies/smart_open/blob/master/README.rst#migrating-to-the-new-open-function\n",
            "  'See the migration notes for details: %s' % _MIGRATION_NOTES_URL\n"
          ],
          "name": "stderr"
        }
      ]
    },
    {
      "cell_type": "code",
      "metadata": {
        "id": "1nwxqkKrCWW0",
        "colab_type": "code",
        "outputId": "679f6b8b-e0f0-4ae8-a5a5-0ec5102cc4cd",
        "colab": {
          "base_uri": "https://localhost:8080/",
          "height": 70
        }
      },
      "source": [
        "from gensim.models import KeyedVectors\n",
        "model_ug_cbow = KeyedVectors.load('w2v_model_ug_cbow.word2vec')\n",
        "model_ug_sg = KeyedVectors.load('w2v_model_ug_sg.word2vec')"
      ],
      "execution_count": 0,
      "outputs": [
        {
          "output_type": "stream",
          "text": [
            "/usr/local/lib/python3.6/dist-packages/smart_open/smart_open_lib.py:398: UserWarning: This function is deprecated, use smart_open.open instead. See the migration notes for details: https://github.com/RaRe-Technologies/smart_open/blob/master/README.rst#migrating-to-the-new-open-function\n",
            "  'See the migration notes for details: %s' % _MIGRATION_NOTES_URL\n"
          ],
          "name": "stderr"
        }
      ]
    },
    {
      "cell_type": "code",
      "metadata": {
        "id": "8uyf2s3XCjfh",
        "colab_type": "code",
        "outputId": "0f1f88b2-d155-41dc-caec-3bd04c29150d",
        "colab": {
          "base_uri": "https://localhost:8080/",
          "height": 34
        }
      },
      "source": [
        "len(model_ug_cbow.wv.vocab.keys())"
      ],
      "execution_count": 0,
      "outputs": [
        {
          "output_type": "execute_result",
          "data": {
            "text/plain": [
              "10687"
            ]
          },
          "metadata": {
            "tags": []
          },
          "execution_count": 50
        }
      ]
    },
    {
      "cell_type": "code",
      "metadata": {
        "id": "X7LBsyR_CoGn",
        "colab_type": "code",
        "outputId": "cf24f907-3d0b-4a2d-d6a6-daff6bd4210b",
        "colab": {
          "base_uri": "https://localhost:8080/",
          "height": 34
        }
      },
      "source": [
        "len(model_ug_sg.wv.vocab.keys())"
      ],
      "execution_count": 0,
      "outputs": [
        {
          "output_type": "execute_result",
          "data": {
            "text/plain": [
              "10687"
            ]
          },
          "metadata": {
            "tags": []
          },
          "execution_count": 51
        }
      ]
    },
    {
      "cell_type": "code",
      "metadata": {
        "id": "AGTWMRWJCtPW",
        "colab_type": "code",
        "outputId": "1afb6442-c9da-4cb5-d7f9-4175b80e2618",
        "colab": {
          "base_uri": "https://localhost:8080/",
          "height": 34
        }
      },
      "source": [
        "embeddings_index = {}\n",
        "for w in model_ug_cbow.wv.vocab.keys():\n",
        "    embeddings_index[w] = np.append(model_ug_cbow.wv[w],model_ug_sg.wv[w])\n",
        "print('Found %s word vectors.' % len(embeddings_index))"
      ],
      "execution_count": 0,
      "outputs": [
        {
          "output_type": "stream",
          "text": [
            "Found 10687 word vectors.\n"
          ],
          "name": "stdout"
        }
      ]
    },
    {
      "cell_type": "code",
      "metadata": {
        "id": "_JmBmXErCzUQ",
        "colab_type": "code",
        "colab": {}
      },
      "source": [
        "from keras.preprocessing.text import Tokenizer\n",
        "from keras.preprocessing.sequence import pad_sequences\n",
        "\n",
        "tokenizer = Tokenizer(num_words=10000)\n",
        "tokenizer.fit_on_texts(x_train)\n",
        "sequences = tokenizer.texts_to_sequences(x_train)"
      ],
      "execution_count": 0,
      "outputs": []
    },
    {
      "cell_type": "code",
      "metadata": {
        "id": "Nx6N5OrGDDcx",
        "colab_type": "code",
        "outputId": "e0e02046-639a-4d72-9d7c-8accc2780033",
        "colab": {
          "base_uri": "https://localhost:8080/",
          "height": 34
        }
      },
      "source": [
        "x_train_seq = pad_sequences(sequences, maxlen=100)\n",
        "print('Shape of data tensor:', x_train_seq.shape)"
      ],
      "execution_count": 0,
      "outputs": [
        {
          "output_type": "stream",
          "text": [
            "Shape of data tensor: (53324, 100)\n"
          ],
          "name": "stdout"
        }
      ]
    },
    {
      "cell_type": "code",
      "metadata": {
        "id": "DaZn-XeKD34n",
        "colab_type": "code",
        "colab": {}
      },
      "source": [
        "sequences_val = tokenizer.texts_to_sequences(x_validation)\n",
        "x_val_seq = pad_sequences(sequences_val, maxlen=100)"
      ],
      "execution_count": 0,
      "outputs": []
    },
    {
      "cell_type": "code",
      "metadata": {
        "id": "YDNGiCjpD8aJ",
        "colab_type": "code",
        "colab": {}
      },
      "source": [
        "num_words = 10000\n",
        "embedding_matrix = np.zeros((num_words, 200))\n",
        "for word, i in tokenizer.word_index.items():\n",
        "    if i >= num_words:\n",
        "        continue\n",
        "    embedding_vector = embeddings_index.get(word)\n",
        "    if embedding_vector is not None:\n",
        "        embedding_matrix[i] = embedding_vector"
      ],
      "execution_count": 0,
      "outputs": []
    },
    {
      "cell_type": "code",
      "metadata": {
        "id": "eiqByWeZEAxr",
        "colab_type": "code",
        "colab": {}
      },
      "source": [
        "seed = 7\n",
        "\n",
        "from keras.models import Sequential\n",
        "from keras.layers import Dense, Dropout,Conv1D,Conv2D,GlobalMaxPooling1D,BatchNormalization\n",
        "from keras.layers import Flatten\n",
        "from keras.layers.embeddings import Embedding"
      ],
      "execution_count": 0,
      "outputs": []
    },
    {
      "cell_type": "code",
      "metadata": {
        "id": "P5p0lPXGEFR_",
        "colab_type": "code",
        "outputId": "5de746e6-2754-466f-ad98-c17ed7f103ed",
        "colab": {
          "base_uri": "https://localhost:8080/",
          "height": 605
        }
      },
      "source": [
        "from keras.layers import Input, Dense, concatenate, Activation\n",
        "from keras.models import Model\n",
        "from keras.optimizers import Adam\n",
        "tweet_input = Input(shape=(100,), dtype='int32')\n",
        "\n",
        "tweet_encoder = Embedding(10000, 200, weights=[embedding_matrix], input_length=100, trainable=True)(tweet_input)\n",
        "bigram_branch = Conv1D(filters=300, kernel_size=2, padding='valid', activation='relu', strides=1)(tweet_encoder)\n",
        "bigram_branch = GlobalMaxPooling1D()(bigram_branch)\n",
        "trigram_branch = Conv1D(filters=300, kernel_size=3, padding='valid', activation='relu', strides=1)(tweet_encoder)\n",
        "trigram_branch = GlobalMaxPooling1D()(trigram_branch)\n",
        "fourgram_branch = Conv1D(filters=300, kernel_size=4, padding='valid', activation='relu', strides=1)(tweet_encoder)\n",
        "fourgram_branch = GlobalMaxPooling1D()(fourgram_branch)\n",
        "merged = concatenate([bigram_branch, trigram_branch, fourgram_branch], axis=1)\n",
        "\n",
        "merged = Dense(10, activation='relu')(merged)\n",
        "merged = Dropout(0.2)(merged)\n",
        "merged = Dense(1)(merged)\n",
        "output = Activation('sigmoid')(merged)\n",
        "model = Model(inputs=[tweet_input], outputs=[output])\n",
        "model.compile(loss='binary_crossentropy',\n",
        "                  optimizer=Adam(lr=0.00001),\n",
        "                  metrics=['accuracy'])\n",
        "model.summary()"
      ],
      "execution_count": 0,
      "outputs": [
        {
          "output_type": "stream",
          "text": [
            "__________________________________________________________________________________________________\n",
            "Layer (type)                    Output Shape         Param #     Connected to                     \n",
            "==================================================================================================\n",
            "input_7 (InputLayer)            (None, 100)          0                                            \n",
            "__________________________________________________________________________________________________\n",
            "embedding_7 (Embedding)         (None, 100, 200)     2000000     input_7[0][0]                    \n",
            "__________________________________________________________________________________________________\n",
            "conv1d_19 (Conv1D)              (None, 99, 300)      120300      embedding_7[0][0]                \n",
            "__________________________________________________________________________________________________\n",
            "conv1d_20 (Conv1D)              (None, 98, 300)      180300      embedding_7[0][0]                \n",
            "__________________________________________________________________________________________________\n",
            "conv1d_21 (Conv1D)              (None, 97, 300)      240300      embedding_7[0][0]                \n",
            "__________________________________________________________________________________________________\n",
            "global_max_pooling1d_19 (Global (None, 300)          0           conv1d_19[0][0]                  \n",
            "__________________________________________________________________________________________________\n",
            "global_max_pooling1d_20 (Global (None, 300)          0           conv1d_20[0][0]                  \n",
            "__________________________________________________________________________________________________\n",
            "global_max_pooling1d_21 (Global (None, 300)          0           conv1d_21[0][0]                  \n",
            "__________________________________________________________________________________________________\n",
            "concatenate_7 (Concatenate)     (None, 900)          0           global_max_pooling1d_19[0][0]    \n",
            "                                                                 global_max_pooling1d_20[0][0]    \n",
            "                                                                 global_max_pooling1d_21[0][0]    \n",
            "__________________________________________________________________________________________________\n",
            "dense_13 (Dense)                (None, 10)           9010        concatenate_7[0][0]              \n",
            "__________________________________________________________________________________________________\n",
            "dropout_7 (Dropout)             (None, 10)           0           dense_13[0][0]                   \n",
            "__________________________________________________________________________________________________\n",
            "dense_14 (Dense)                (None, 1)            11          dropout_7[0][0]                  \n",
            "__________________________________________________________________________________________________\n",
            "activation_7 (Activation)       (None, 1)            0           dense_14[0][0]                   \n",
            "==================================================================================================\n",
            "Total params: 2,549,921\n",
            "Trainable params: 2,549,921\n",
            "Non-trainable params: 0\n",
            "__________________________________________________________________________________________________\n"
          ],
          "name": "stdout"
        }
      ]
    },
    {
      "cell_type": "code",
      "metadata": {
        "id": "Bqvp2zJHEIwN",
        "colab_type": "code",
        "outputId": "f3312572-4d21-4f67-dead-cfe7ec4fb2a4",
        "colab": {
          "base_uri": "https://localhost:8080/",
          "height": 1000
        }
      },
      "source": [
        "history = model.fit(x_train_seq, y_train, batch_size=32, epochs=50,validation_data=(x_val_seq, y_validation), verbose=1)"
      ],
      "execution_count": 0,
      "outputs": [
        {
          "output_type": "stream",
          "text": [
            "Train on 53324 samples, validate on 6666 samples\n",
            "Epoch 1/50\n",
            "53324/53324 [==============================] - 17s 310us/step - loss: 0.7016 - acc: 0.5120 - val_loss: 0.6928 - val_acc: 0.5078\n",
            "Epoch 2/50\n",
            "53324/53324 [==============================] - 15s 288us/step - loss: 0.6893 - acc: 0.5280 - val_loss: 0.6895 - val_acc: 0.5237\n",
            "Epoch 3/50\n",
            "53324/53324 [==============================] - 15s 288us/step - loss: 0.6822 - acc: 0.5500 - val_loss: 0.6860 - val_acc: 0.5330\n",
            "Epoch 4/50\n",
            "53324/53324 [==============================] - 15s 285us/step - loss: 0.6737 - acc: 0.5672 - val_loss: 0.6821 - val_acc: 0.5437\n",
            "Epoch 5/50\n",
            "53324/53324 [==============================] - 15s 286us/step - loss: 0.6652 - acc: 0.5819 - val_loss: 0.6786 - val_acc: 0.5557\n",
            "Epoch 6/50\n",
            "53324/53324 [==============================] - 15s 285us/step - loss: 0.6571 - acc: 0.5972 - val_loss: 0.6746 - val_acc: 0.5662\n",
            "Epoch 7/50\n",
            "53324/53324 [==============================] - 15s 286us/step - loss: 0.6477 - acc: 0.6127 - val_loss: 0.6710 - val_acc: 0.5726\n",
            "Epoch 8/50\n",
            "53324/53324 [==============================] - 15s 286us/step - loss: 0.6400 - acc: 0.6285 - val_loss: 0.6669 - val_acc: 0.5812\n",
            "Epoch 9/50\n",
            "53324/53324 [==============================] - 15s 285us/step - loss: 0.6312 - acc: 0.6387 - val_loss: 0.6631 - val_acc: 0.5885\n",
            "Epoch 10/50\n",
            "53324/53324 [==============================] - 15s 287us/step - loss: 0.6217 - acc: 0.6533 - val_loss: 0.6593 - val_acc: 0.6013\n",
            "Epoch 11/50\n",
            "53324/53324 [==============================] - 16s 291us/step - loss: 0.6110 - acc: 0.6675 - val_loss: 0.6553 - val_acc: 0.6092\n",
            "Epoch 12/50\n",
            "53324/53324 [==============================] - 15s 286us/step - loss: 0.6035 - acc: 0.6746 - val_loss: 0.6512 - val_acc: 0.6172\n",
            "Epoch 13/50\n",
            "53324/53324 [==============================] - 15s 286us/step - loss: 0.5943 - acc: 0.6879 - val_loss: 0.6468 - val_acc: 0.6281\n",
            "Epoch 14/50\n",
            "53324/53324 [==============================] - 15s 287us/step - loss: 0.5842 - acc: 0.6997 - val_loss: 0.6424 - val_acc: 0.6322\n",
            "Epoch 15/50\n",
            "53324/53324 [==============================] - 15s 286us/step - loss: 0.5744 - acc: 0.7094 - val_loss: 0.6377 - val_acc: 0.6380\n",
            "Epoch 16/50\n",
            "53324/53324 [==============================] - 15s 286us/step - loss: 0.5647 - acc: 0.7207 - val_loss: 0.6333 - val_acc: 0.6463\n",
            "Epoch 17/50\n",
            "53324/53324 [==============================] - 15s 286us/step - loss: 0.5546 - acc: 0.7293 - val_loss: 0.6287 - val_acc: 0.6502\n",
            "Epoch 18/50\n",
            "53324/53324 [==============================] - 15s 286us/step - loss: 0.5452 - acc: 0.7383 - val_loss: 0.6245 - val_acc: 0.6517\n",
            "Epoch 19/50\n",
            "53324/53324 [==============================] - 15s 285us/step - loss: 0.5357 - acc: 0.7468 - val_loss: 0.6198 - val_acc: 0.6611\n",
            "Epoch 20/50\n",
            "53324/53324 [==============================] - 15s 285us/step - loss: 0.5256 - acc: 0.7565 - val_loss: 0.6154 - val_acc: 0.6653\n",
            "Epoch 21/50\n",
            "53324/53324 [==============================] - 15s 286us/step - loss: 0.5162 - acc: 0.7610 - val_loss: 0.6112 - val_acc: 0.6679\n",
            "Epoch 22/50\n",
            "53324/53324 [==============================] - 15s 286us/step - loss: 0.5057 - acc: 0.7690 - val_loss: 0.6061 - val_acc: 0.6734\n",
            "Epoch 23/50\n",
            "53324/53324 [==============================] - 15s 285us/step - loss: 0.4961 - acc: 0.7777 - val_loss: 0.6022 - val_acc: 0.6721\n",
            "Epoch 24/50\n",
            "53324/53324 [==============================] - 15s 285us/step - loss: 0.4865 - acc: 0.7841 - val_loss: 0.5974 - val_acc: 0.6817\n",
            "Epoch 25/50\n",
            "53324/53324 [==============================] - 15s 285us/step - loss: 0.4760 - acc: 0.7909 - val_loss: 0.5929 - val_acc: 0.6842\n",
            "Epoch 26/50\n",
            "53324/53324 [==============================] - 16s 306us/step - loss: 0.4659 - acc: 0.7956 - val_loss: 0.5891 - val_acc: 0.6893\n",
            "Epoch 27/50\n",
            "53324/53324 [==============================] - 16s 291us/step - loss: 0.4562 - acc: 0.8041 - val_loss: 0.5845 - val_acc: 0.6908\n",
            "Epoch 28/50\n",
            "53324/53324 [==============================] - 16s 292us/step - loss: 0.4472 - acc: 0.8103 - val_loss: 0.5818 - val_acc: 0.6869\n",
            "Epoch 29/50\n",
            "29056/53324 [===============>..............] - ETA: 6s - loss: 0.4363 - acc: 0.8188"
          ],
          "name": "stdout"
        }
      ]
    },
    {
      "cell_type": "code",
      "metadata": {
        "id": "JB7CE8r_Vgit",
        "colab_type": "code",
        "outputId": "fc8532a2-fa71-409e-df64-cdb215634a43",
        "colab": {
          "base_uri": "https://localhost:8080/",
          "height": 294
        }
      },
      "source": [
        "plt.plot(history.history['acc'])\n",
        "plt.plot(history.history['val_acc'])\n",
        "plt.title('model accuracy')\n",
        "plt.ylabel('accuracy')\n",
        "plt.xlabel('epoch')\n",
        "plt.legend(['train', 'val'], loc='upper left')\n",
        "plt.show()"
      ],
      "execution_count": 80,
      "outputs": [
        {
          "output_type": "display_data",
          "data": {
            "image/png": "[encoded data removed]",
            "text/plain": [
              "<Figure size 432x288 with 1 Axes>"
            ]
          },
          "metadata": {
            "tags": [],
            "image/png": {
              "width": 432,
              "height": 277
            }
          }
        }
      ]
    },
    {
      "cell_type": "code",
      "metadata": {
        "id": "enzd31J-Hs06",
        "colab_type": "code",
        "outputId": "37ab0048-584b-4c12-9a3d-784f07028eb8",
        "colab": {
          "base_uri": "https://localhost:8080/",
          "height": 294
        }
      },
      "source": [
        "plt.plot(history.history['loss'])\n",
        "plt.plot(history.history['val_loss'])\n",
        "plt.title('model loss')\n",
        "plt.ylabel('loss')\n",
        "plt.xlabel('epoch')\n",
        "plt.legend(['train', 'val'], loc='upper left')\n",
        "plt.show()\n"
      ],
      "execution_count": 81,
      "outputs": [
        {
          "output_type": "display_data",
          "data": {
            "image/png": "[encoded data removed]",
            "text/plain": [
              "<Figure size 432x288 with 1 Axes>"
            ]
          },
          "metadata": {
            "tags": [],
            "image/png": {
              "width": 425,
              "height": 277
            }
          }
        }
      ]
    },
    {
      "cell_type": "code",
      "metadata": {
        "id": "1d7WYKgXH0o5",
        "colab_type": "code",
        "outputId": "c770b754-3e0a-4ba2-b584-434d72547122",
        "colab": {
          "base_uri": "https://localhost:8080/",
          "height": 34
        }
      },
      "source": [
        "import os\n",
        "save_dir = os.path.join(os.getcwd(), 'saved_models')\n",
        "model_name = 'Word2vecModel50Epoch.hdf5'\n",
        "\n",
        "if not os.path.isdir(save_dir):\n",
        "    os.makedirs(save_dir)\n",
        "model_path = os.path.join(save_dir, model_name)\n",
        "model.save(model_path)\n",
        "\n",
        "print('Saved trained model at %s ' % model_path)"
      ],
      "execution_count": 82,
      "outputs": [
        {
          "output_type": "stream",
          "text": [
            "Saved trained model at /content/saved_models/Word2vecModel50Epoch.hdf5 \n"
          ],
          "name": "stdout"
        }
      ]
    },
    {
      "cell_type": "code",
      "metadata": {
        "id": "DQnvrDBZIZSC",
        "colab_type": "code",
        "colab": {}
      },
      "source": [
        "from google.colab import auth\n",
        "auth.authenticate_user()"
      ],
      "execution_count": 0,
      "outputs": []
    },
    {
      "cell_type": "code",
      "metadata": {
        "id": "8wVmRb4LIynY",
        "colab_type": "code",
        "outputId": "6e5a78ed-3f7f-49de-b251-bd7d3a58c7d9",
        "colab": {
          "base_uri": "https://localhost:8080/",
          "height": 524
        }
      },
      "source": [
        "from googleapiclient.discovery import build\n",
        "drive_service = build('drive', 'v3')"
      ],
      "execution_count": 84,
      "outputs": [
        {
          "output_type": "stream",
          "text": [
            "W0724 10:41:36.814792 139701027559296 __init__.py:44] file_cache is unavailable when using oauth2client >= 4.0.0 or google-auth\n",
            "Traceback (most recent call last):\n",
            "  File \"/usr/local/lib/python3.6/dist-packages/googleapiclient/discovery_cache/__init__.py\", line 36, in autodetect\n",
            "    from google.appengine.api import memcache\n",
            "ModuleNotFoundError: No module named 'google.appengine'\n",
            "\n",
            "During handling of the above exception, another exception occurred:\n",
            "\n",
            "Traceback (most recent call last):\n",
            "  File \"/usr/local/lib/python3.6/dist-packages/googleapiclient/discovery_cache/file_cache.py\", line 33, in <module>\n",
            "    from oauth2client.contrib.locked_file import LockedFile\n",
            "ModuleNotFoundError: No module named 'oauth2client.contrib.locked_file'\n",
            "\n",
            "During handling of the above exception, another exception occurred:\n",
            "\n",
            "Traceback (most recent call last):\n",
            "  File \"/usr/local/lib/python3.6/dist-packages/googleapiclient/discovery_cache/file_cache.py\", line 37, in <module>\n",
            "    from oauth2client.locked_file import LockedFile\n",
            "ModuleNotFoundError: No module named 'oauth2client.locked_file'\n",
            "\n",
            "During handling of the above exception, another exception occurred:\n",
            "\n",
            "Traceback (most recent call last):\n",
            "  File \"/usr/local/lib/python3.6/dist-packages/googleapiclient/discovery_cache/__init__.py\", line 41, in autodetect\n",
            "    from . import file_cache\n",
            "  File \"/usr/local/lib/python3.6/dist-packages/googleapiclient/discovery_cache/file_cache.py\", line 41, in <module>\n",
            "    'file_cache is unavailable when using oauth2client >= 4.0.0 or google-auth')\n",
            "ImportError: file_cache is unavailable when using oauth2client >= 4.0.0 or google-auth\n",
            "W0724 10:41:36.832018 139701027559296 _default.py:280] No project ID could be determined. Consider running `gcloud config set project` or setting the GOOGLE_CLOUD_PROJECT environment variable\n"
          ],
          "name": "stderr"
        }
      ]
    },
    {
      "cell_type": "code",
      "metadata": {
        "id": "JsB8IpO9JF7x",
        "colab_type": "code",
        "outputId": "4d34047e-bbce-4988-c14b-263a88982a68",
        "colab": {
          "base_uri": "https://localhost:8080/",
          "height": 34
        }
      },
      "source": [
        "from googleapiclient.http import MediaFileUpload\n",
        "\n",
        "file_metadata = {\n",
        "  'name': 'Word2vecModel50Epoch.hdf5',\n",
        "  'mimeType': 'text/plain'\n",
        "}\n",
        "media = MediaFileUpload('/content/saved_models/Word2vecModel50Epoch.hdf5', \n",
        "                        mimetype='text/plain',\n",
        "                        resumable=True)\n",
        "created = drive_service.files().create(body=file_metadata,\n",
        "                                       media_body=media,\n",
        "                                       fields='id').execute()\n",
        "print('File ID: {}'.format(created.get('id')))"
      ],
      "execution_count": 85,
      "outputs": [
        {
          "output_type": "stream",
          "text": [
            "File ID: 1IMvIohI9iOIOfMNIuu29D6DUzYklF8Ho\n"
          ],
          "name": "stdout"
        }
      ]
    },
    {
      "cell_type": "code",
      "metadata": {
        "id": "5_YfoknYP9OO",
        "colab_type": "code",
        "outputId": "cd43a0a4-48fa-4a6b-97c1-3c7f4eb751cc",
        "colab": {
          "base_uri": "https://localhost:8080/",
          "height": 50
        }
      },
      "source": [
        "from keras.models import load_model\n",
        "\n",
        "model = load_model(model_path)\n",
        "model.evaluate(x=x_val_seq, y=y_validation)"
      ],
      "execution_count": 90,
      "outputs": [
        {
          "output_type": "stream",
          "text": [
            "6666/6666 [==============================] - 1s 143us/step\n"
          ],
          "name": "stdout"
        },
        {
          "output_type": "execute_result",
          "data": {
            "text/plain": [
              "[0.5250495416943533, 0.7442244224422442]"
            ]
          },
          "metadata": {
            "tags": []
          },
          "execution_count": 90
        }
      ]
    }
  ]
}