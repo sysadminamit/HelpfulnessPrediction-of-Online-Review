{
  "nbformat": 4,
  "nbformat_minor": 0,
  "metadata": {
    "colab": {
      "name": "NLPDataCleaning_Part_2.ipynb",
      "version": "0.3.2",
      "provenance": [],
      "collapsed_sections": [],
      "include_colab_link": true
    },
    "kernelspec": {
      "name": "python3",
      "display_name": "Python 3"
    },
    "accelerator": "GPU"
  },
  "cells": [
    {
      "cell_type": "markdown",
      "metadata": {
        "id": "view-in-github",
        "colab_type": "text"
      },
      "source": [
        "<a href=\"https://colab.research.google.com/github/sysadminamit/HelpfulnessPrediction-of-Online-Review/blob/master/NLPDataCleaning_Part_2.ipynb\" target=\"_parent\"><img src=\"https://colab.research.google.com/assets/colab-badge.svg\" alt=\"Open In Colab\"/></a>"
      ]
    },
    {
      "cell_type": "markdown",
      "metadata": {
        "id": "6VPVIVEH7Lv9",
        "colab_type": "text"
      },
      "source": [
        "In this part of cleaning all the NLP data cleaning processes are applied"
      ]
    },
    {
      "cell_type": "code",
      "metadata": {
        "id": "OdwigMLhj5Or",
        "colab_type": "code",
        "outputId": "beda82c5-1e75-4f1a-fd47-68a0a67a87ca",
        "colab": {
          "resources": {
            "http://localhost:8080/nbextensions/google.colab/files.js": {
              "data": "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",
              "ok": true,
              "headers": [
                [
                  "content-type",
                  "application/javascript"
                ]
              ],
              "status": 200,
              "status_text": ""
            }
          },
          "base_uri": "https://localhost:8080/",
          "height": 74
        }
      },
      "source": [
        "from google.colab import files\n",
        "uploaded = files.upload()"
      ],
      "execution_count": 0,
      "outputs": [
        {
          "output_type": "display_data",
          "data": {
            "text/html": [
              "\n",
              "     <input type=\"file\" id=\"files-225cc134-14d4-4291-b58c-17b33998d0d9\" name=\"files[]\" multiple disabled />\n",
              "     <output id=\"result-225cc134-14d4-4291-b58c-17b33998d0d9\">\n",
              "      Upload widget is only available when the cell has been executed in the\n",
              "      current browser session. Please rerun this cell to enable.\n",
              "      </output>\n",
              "      <script src=\"/nbextensions/google.colab/files.js\"></script> "
            ],
            "text/plain": [
              "<IPython.core.display.HTML object>"
            ]
          },
          "metadata": {
            "tags": []
          }
        },
        {
          "output_type": "stream",
          "text": [
            "Saving AmazonElectronicsProductReview.csv to AmazonElectronicsProductReview (1).csv\n"
          ],
          "name": "stdout"
        }
      ]
    },
    {
      "cell_type": "code",
      "metadata": {
        "id": "LHMOGV67sgNk",
        "colab_type": "code",
        "outputId": "336efd1e-3c70-406c-bb18-14b47bb36dc0",
        "colab": {
          "base_uri": "https://localhost:8080/",
          "height": 84
        }
      },
      "source": [
        "!ls"
      ],
      "execution_count": 0,
      "outputs": [
        {
          "output_type": "stream",
          "text": [
            "'AmazonElectronicsProductReview (1).csv'   ElectronicsProductReviewCSV.csv\n",
            " AmazonElectronicsProductReview.csv\t   reviews_Electronics_5.json.gz\n",
            " ElectronicsProduct.csv\t\t\t   sample_data\n",
            " ElectronicsProductReview.csv\n"
          ],
          "name": "stdout"
        }
      ]
    },
    {
      "cell_type": "code",
      "metadata": {
        "id": "VME2d4TypKRH",
        "colab_type": "code",
        "colab": {}
      },
      "source": [
        "import numpy as np\n",
        "import pandas as pd\n",
        "import matplotlib.pyplot as plt"
      ],
      "execution_count": 0,
      "outputs": []
    },
    {
      "cell_type": "code",
      "metadata": {
        "id": "wF7ty_mNomO5",
        "colab_type": "code",
        "outputId": "b70b28dd-c21a-4c5f-a995-c224dc79502f",
        "colab": {
          "base_uri": "https://localhost:8080/",
          "height": 195
        }
      },
      "source": [
        "df = pd.read_csv('AmazonElectronicsProductReview.csv')\n",
        "df.head()"
      ],
      "execution_count": 0,
      "outputs": [
        {
          "output_type": "execute_result",
          "data": {
            "text/html": [
              "<div>\n",
              "<style scoped>\n",
              "    .dataframe tbody tr th:only-of-type {\n",
              "        vertical-align: middle;\n",
              "    }\n",
              "\n",
              "    .dataframe tbody tr th {\n",
              "        vertical-align: top;\n",
              "    }\n",
              "\n",
              "    .dataframe thead th {\n",
              "        text-align: right;\n",
              "    }\n",
              "</style>\n",
              "<table border=\"1\" class=\"dataframe\">\n",
              "  <thead>\n",
              "    <tr style=\"text-align: right;\">\n",
              "      <th></th>\n",
              "      <th>Unnamed: 0</th>\n",
              "      <th>Unnamed: 0.1</th>\n",
              "      <th>overall</th>\n",
              "      <th>Helpfulfactor</th>\n",
              "      <th>review</th>\n",
              "      <th>Summary</th>\n",
              "    </tr>\n",
              "  </thead>\n",
              "  <tbody>\n",
              "    <tr>\n",
              "      <th>0</th>\n",
              "      <td>1</td>\n",
              "      <td>1</td>\n",
              "      <td>1</td>\n",
              "      <td>1.0</td>\n",
              "      <td>im a professional otr truck driver and i bough...</td>\n",
              "      <td>very disappointed</td>\n",
              "    </tr>\n",
              "    <tr>\n",
              "      <th>1</th>\n",
              "      <td>2</td>\n",
              "      <td>2</td>\n",
              "      <td>3</td>\n",
              "      <td>1.0</td>\n",
              "      <td>well what can i say.  ive had this unit in my ...</td>\n",
              "      <td>1st impression</td>\n",
              "    </tr>\n",
              "    <tr>\n",
              "      <th>2</th>\n",
              "      <td>3</td>\n",
              "      <td>3</td>\n",
              "      <td>2</td>\n",
              "      <td>1.0</td>\n",
              "      <td>not going to write a long review even thought ...</td>\n",
              "      <td>great grafics poor gps</td>\n",
              "    </tr>\n",
              "    <tr>\n",
              "      <th>3</th>\n",
              "      <td>5</td>\n",
              "      <td>5</td>\n",
              "      <td>5</td>\n",
              "      <td>1.0</td>\n",
              "      <td>i am using this with a nook hd. it works as de...</td>\n",
              "      <td>hdmi nook adapter cable</td>\n",
              "    </tr>\n",
              "    <tr>\n",
              "      <th>4</th>\n",
              "      <td>9</td>\n",
              "      <td>9</td>\n",
              "      <td>5</td>\n",
              "      <td>1.0</td>\n",
              "      <td>this product really works great but i found th...</td>\n",
              "      <td>this works great but read the details</td>\n",
              "    </tr>\n",
              "  </tbody>\n",
              "</table>\n",
              "</div>"
            ],
            "text/plain": [
              "   Unnamed: 0  ...                                Summary\n",
              "0           1  ...                      very disappointed\n",
              "1           2  ...                         1st impression\n",
              "2           3  ...                 great grafics poor gps\n",
              "3           5  ...                hdmi nook adapter cable\n",
              "4           9  ...  this works great but read the details\n",
              "\n",
              "[5 rows x 6 columns]"
            ]
          },
          "metadata": {
            "tags": []
          },
          "execution_count": 30
        }
      ]
    },
    {
      "cell_type": "code",
      "metadata": {
        "id": "ulErCfjBjRET",
        "colab_type": "code",
        "outputId": "6a64efc5-a957-4b88-f3f9-f6b5afb8ca85",
        "colab": {
          "base_uri": "https://localhost:8080/",
          "height": 1000
        }
      },
      "source": [
        "df.dropna()"
      ],
      "execution_count": 0,
      "outputs": [
        {
          "output_type": "execute_result",
          "data": {
            "text/html": [
              "<div>\n",
              "<style scoped>\n",
              "    .dataframe tbody tr th:only-of-type {\n",
              "        vertical-align: middle;\n",
              "    }\n",
              "\n",
              "    .dataframe tbody tr th {\n",
              "        vertical-align: top;\n",
              "    }\n",
              "\n",
              "    .dataframe thead th {\n",
              "        text-align: right;\n",
              "    }\n",
              "</style>\n",
              "<table border=\"1\" class=\"dataframe\">\n",
              "  <thead>\n",
              "    <tr style=\"text-align: right;\">\n",
              "      <th></th>\n",
              "      <th>Unnamed: 0</th>\n",
              "      <th>Unnamed: 0.1</th>\n",
              "      <th>overall</th>\n",
              "      <th>Helpfulfactor</th>\n",
              "      <th>review</th>\n",
              "      <th>Summary</th>\n",
              "    </tr>\n",
              "  </thead>\n",
              "  <tbody>\n",
              "    <tr>\n",
              "      <th>0</th>\n",
              "      <td>1</td>\n",
              "      <td>1</td>\n",
              "      <td>1</td>\n",
              "      <td>1.0</td>\n",
              "      <td>im a professional otr truck driver and i bough...</td>\n",
              "      <td>very disappointed</td>\n",
              "    </tr>\n",
              "    <tr>\n",
              "      <th>1</th>\n",
              "      <td>2</td>\n",
              "      <td>2</td>\n",
              "      <td>3</td>\n",
              "      <td>1.0</td>\n",
              "      <td>well what can i say.  ive had this unit in my ...</td>\n",
              "      <td>1st impression</td>\n",
              "    </tr>\n",
              "    <tr>\n",
              "      <th>2</th>\n",
              "      <td>3</td>\n",
              "      <td>3</td>\n",
              "      <td>2</td>\n",
              "      <td>1.0</td>\n",
              "      <td>not going to write a long review even thought ...</td>\n",
              "      <td>great grafics poor gps</td>\n",
              "    </tr>\n",
              "    <tr>\n",
              "      <th>3</th>\n",
              "      <td>5</td>\n",
              "      <td>5</td>\n",
              "      <td>5</td>\n",
              "      <td>1.0</td>\n",
              "      <td>i am using this with a nook hd. it works as de...</td>\n",
              "      <td>hdmi nook adapter cable</td>\n",
              "    </tr>\n",
              "    <tr>\n",
              "      <th>4</th>\n",
              "      <td>9</td>\n",
              "      <td>9</td>\n",
              "      <td>5</td>\n",
              "      <td>1.0</td>\n",
              "      <td>this product really works great but i found th...</td>\n",
              "      <td>this works great but read the details</td>\n",
              "    </tr>\n",
              "    <tr>\n",
              "      <th>5</th>\n",
              "      <td>10</td>\n",
              "      <td>10</td>\n",
              "      <td>4</td>\n",
              "      <td>1.0</td>\n",
              "      <td>this item is just as was described in the orig...</td>\n",
              "      <td>as expected</td>\n",
              "    </tr>\n",
              "    <tr>\n",
              "      <th>6</th>\n",
              "      <td>12</td>\n",
              "      <td>12</td>\n",
              "      <td>5</td>\n",
              "      <td>1.0</td>\n",
              "      <td>my son crewed my hd charger cord so i needed a...</td>\n",
              "      <td>works great</td>\n",
              "    </tr>\n",
              "    <tr>\n",
              "      <th>7</th>\n",
              "      <td>13</td>\n",
              "      <td>13</td>\n",
              "      <td>3</td>\n",
              "      <td>0.0</td>\n",
              "      <td>this is a good beefy 2 amp charger but it cove...</td>\n",
              "      <td>it works</td>\n",
              "    </tr>\n",
              "    <tr>\n",
              "      <th>8</th>\n",
              "      <td>14</td>\n",
              "      <td>14</td>\n",
              "      <td>5</td>\n",
              "      <td>1.0</td>\n",
              "      <td>i lost my bn original cable.  i looked around ...</td>\n",
              "      <td>great replacement for original power cable</td>\n",
              "    </tr>\n",
              "    <tr>\n",
              "      <th>9</th>\n",
              "      <td>16</td>\n",
              "      <td>16</td>\n",
              "      <td>3</td>\n",
              "      <td>0.0</td>\n",
              "      <td>go to target or barnes and noble instead and p...</td>\n",
              "      <td>45 for a power cord good luck with that</td>\n",
              "    </tr>\n",
              "    <tr>\n",
              "      <th>10</th>\n",
              "      <td>17</td>\n",
              "      <td>17</td>\n",
              "      <td>4</td>\n",
              "      <td>1.0</td>\n",
              "      <td>works well a little pricey i think for a charg...</td>\n",
              "      <td>good replacement</td>\n",
              "    </tr>\n",
              "    <tr>\n",
              "      <th>11</th>\n",
              "      <td>19</td>\n",
              "      <td>19</td>\n",
              "      <td>5</td>\n",
              "      <td>0.0</td>\n",
              "      <td>this mount is just what i needed.  it is stron...</td>\n",
              "      <td>perfect</td>\n",
              "    </tr>\n",
              "    <tr>\n",
              "      <th>12</th>\n",
              "      <td>21</td>\n",
              "      <td>21</td>\n",
              "      <td>4</td>\n",
              "      <td>0.0</td>\n",
              "      <td>this mount works really well once you get it u...</td>\n",
              "      <td>pretty simple but definitely good</td>\n",
              "    </tr>\n",
              "    <tr>\n",
              "      <th>13</th>\n",
              "      <td>25</td>\n",
              "      <td>25</td>\n",
              "      <td>4</td>\n",
              "      <td>0.0</td>\n",
              "      <td>took a bit of work but used this to fit an old...</td>\n",
              "      <td>works</td>\n",
              "    </tr>\n",
              "    <tr>\n",
              "      <th>14</th>\n",
              "      <td>26</td>\n",
              "      <td>26</td>\n",
              "      <td>5</td>\n",
              "      <td>1.0</td>\n",
              "      <td>i used this for my 4734 samsung. its fitfeel i...</td>\n",
              "      <td>just what id hoped</td>\n",
              "    </tr>\n",
              "    <tr>\n",
              "      <th>15</th>\n",
              "      <td>43</td>\n",
              "      <td>43</td>\n",
              "      <td>3</td>\n",
              "      <td>1.0</td>\n",
              "      <td>for the price you cant beat it. mine didnt com...</td>\n",
              "      <td>great for the price</td>\n",
              "    </tr>\n",
              "    <tr>\n",
              "      <th>16</th>\n",
              "      <td>50</td>\n",
              "      <td>50</td>\n",
              "      <td>5</td>\n",
              "      <td>0.0</td>\n",
              "      <td>very secure we did have to use concrete bolts ...</td>\n",
              "      <td>awesome</td>\n",
              "    </tr>\n",
              "    <tr>\n",
              "      <th>17</th>\n",
              "      <td>55</td>\n",
              "      <td>55</td>\n",
              "      <td>5</td>\n",
              "      <td>0.0</td>\n",
              "      <td>this is the best mount i have ever found espec...</td>\n",
              "      <td>best mount ever</td>\n",
              "    </tr>\n",
              "    <tr>\n",
              "      <th>18</th>\n",
              "      <td>57</td>\n",
              "      <td>57</td>\n",
              "      <td>5</td>\n",
              "      <td>1.0</td>\n",
              "      <td>in the process of turning our master bedroom i...</td>\n",
              "      <td>simple and effective just the way i like it</td>\n",
              "    </tr>\n",
              "    <tr>\n",
              "      <th>19</th>\n",
              "      <td>67</td>\n",
              "      <td>67</td>\n",
              "      <td>4</td>\n",
              "      <td>0.0</td>\n",
              "      <td>bought the mount for my 3034 dell u3011 monito...</td>\n",
              "      <td>works good but has some sag</td>\n",
              "    </tr>\n",
              "    <tr>\n",
              "      <th>20</th>\n",
              "      <td>70</td>\n",
              "      <td>70</td>\n",
              "      <td>4</td>\n",
              "      <td>0.0</td>\n",
              "      <td>i wasnt willing to pay 100 for simply mounting...</td>\n",
              "      <td>great mount for the price</td>\n",
              "    </tr>\n",
              "    <tr>\n",
              "      <th>21</th>\n",
              "      <td>72</td>\n",
              "      <td>72</td>\n",
              "      <td>4</td>\n",
              "      <td>0.0</td>\n",
              "      <td>this is a rather good tv mount. this tv mount ...</td>\n",
              "      <td>good mount</td>\n",
              "    </tr>\n",
              "    <tr>\n",
              "      <th>22</th>\n",
              "      <td>81</td>\n",
              "      <td>81</td>\n",
              "      <td>5</td>\n",
              "      <td>0.0</td>\n",
              "      <td>this was perfect for my 24 led monitor i had i...</td>\n",
              "      <td>strongeasy install and comes with hdmi cable also</td>\n",
              "    </tr>\n",
              "    <tr>\n",
              "      <th>23</th>\n",
              "      <td>84</td>\n",
              "      <td>84</td>\n",
              "      <td>5</td>\n",
              "      <td>1.0</td>\n",
              "      <td>for the price.....cant be beat.  i have two tv...</td>\n",
              "      <td>for the price cant be beat</td>\n",
              "    </tr>\n",
              "    <tr>\n",
              "      <th>24</th>\n",
              "      <td>89</td>\n",
              "      <td>89</td>\n",
              "      <td>5</td>\n",
              "      <td>0.0</td>\n",
              "      <td>this is perfect for what i needed it for. i ca...</td>\n",
              "      <td>wall mount</td>\n",
              "    </tr>\n",
              "    <tr>\n",
              "      <th>25</th>\n",
              "      <td>96</td>\n",
              "      <td>96</td>\n",
              "      <td>4</td>\n",
              "      <td>1.0</td>\n",
              "      <td>very well made strong mount the only problem i...</td>\n",
              "      <td>very well made strong mount</td>\n",
              "    </tr>\n",
              "    <tr>\n",
              "      <th>26</th>\n",
              "      <td>98</td>\n",
              "      <td>98</td>\n",
              "      <td>4</td>\n",
              "      <td>0.0</td>\n",
              "      <td>it took about 10 mins to install this tv wall ...</td>\n",
              "      <td>easy to install cheap easy to use</td>\n",
              "    </tr>\n",
              "    <tr>\n",
              "      <th>27</th>\n",
              "      <td>106</td>\n",
              "      <td>106</td>\n",
              "      <td>5</td>\n",
              "      <td>0.0</td>\n",
              "      <td>this is a really well made and engineered prod...</td>\n",
              "      <td>great quality tv mount at bargain price</td>\n",
              "    </tr>\n",
              "    <tr>\n",
              "      <th>28</th>\n",
              "      <td>109</td>\n",
              "      <td>109</td>\n",
              "      <td>5</td>\n",
              "      <td>1.0</td>\n",
              "      <td>tv has been on wall for a long time.  hasnt fa...</td>\n",
              "      <td>tv mount</td>\n",
              "    </tr>\n",
              "    <tr>\n",
              "      <th>29</th>\n",
              "      <td>113</td>\n",
              "      <td>113</td>\n",
              "      <td>4</td>\n",
              "      <td>1.0</td>\n",
              "      <td>amazon as always 5 stars in service and shippi...</td>\n",
              "      <td>nice flexiable mount had to cut to fit vizio e...</td>\n",
              "    </tr>\n",
              "    <tr>\n",
              "      <th>...</th>\n",
              "      <td>...</td>\n",
              "      <td>...</td>\n",
              "      <td>...</td>\n",
              "      <td>...</td>\n",
              "      <td>...</td>\n",
              "      <td>...</td>\n",
              "    </tr>\n",
              "    <tr>\n",
              "      <th>707337</th>\n",
              "      <td>1663183</td>\n",
              "      <td>1663183</td>\n",
              "      <td>5</td>\n",
              "      <td>0.0</td>\n",
              "      <td>i am in love. i had the mini 8 and i loved tha...</td>\n",
              "      <td>in love</td>\n",
              "    </tr>\n",
              "    <tr>\n",
              "      <th>707338</th>\n",
              "      <td>1663184</td>\n",
              "      <td>1663184</td>\n",
              "      <td>5</td>\n",
              "      <td>0.0</td>\n",
              "      <td>everyone love it. i love it. the people i shoo...</td>\n",
              "      <td>total fun brings joy</td>\n",
              "    </tr>\n",
              "    <tr>\n",
              "      <th>707339</th>\n",
              "      <td>1663186</td>\n",
              "      <td>1663186</td>\n",
              "      <td>5</td>\n",
              "      <td>1.0</td>\n",
              "      <td>ive had the 50s for about a year now and have ...</td>\n",
              "      <td>50s90 whats not to like</td>\n",
              "    </tr>\n",
              "    <tr>\n",
              "      <th>707340</th>\n",
              "      <td>1663187</td>\n",
              "      <td>1663187</td>\n",
              "      <td>5</td>\n",
              "      <td>0.0</td>\n",
              "      <td>purchased for my 15yearold daughter shes been ...</td>\n",
              "      <td>fun</td>\n",
              "    </tr>\n",
              "    <tr>\n",
              "      <th>707341</th>\n",
              "      <td>1663190</td>\n",
              "      <td>1663190</td>\n",
              "      <td>4</td>\n",
              "      <td>0.0</td>\n",
              "      <td>this usb adapter comes with the adapter and a ...</td>\n",
              "      <td>works great on asus laptop running windows 7 l...</td>\n",
              "    </tr>\n",
              "    <tr>\n",
              "      <th>707342</th>\n",
              "      <td>1663191</td>\n",
              "      <td>1663191</td>\n",
              "      <td>5</td>\n",
              "      <td>0.0</td>\n",
              "      <td>this works for wonderfully for me on my window...</td>\n",
              "      <td>works great on my windows 8 computer and pairs...</td>\n",
              "    </tr>\n",
              "    <tr>\n",
              "      <th>707343</th>\n",
              "      <td>1663193</td>\n",
              "      <td>1663193</td>\n",
              "      <td>5</td>\n",
              "      <td>0.0</td>\n",
              "      <td>after reciving this bluetooth adapter i wanted...</td>\n",
              "      <td>great usb 40 adapter</td>\n",
              "    </tr>\n",
              "    <tr>\n",
              "      <th>707344</th>\n",
              "      <td>1663194</td>\n",
              "      <td>1663194</td>\n",
              "      <td>4</td>\n",
              "      <td>0.0</td>\n",
              "      <td>i wasnt sure that the iclever in851040 bluetoo...</td>\n",
              "      <td>plug and play on my old netbook</td>\n",
              "    </tr>\n",
              "    <tr>\n",
              "      <th>707345</th>\n",
              "      <td>1663195</td>\n",
              "      <td>1663195</td>\n",
              "      <td>4</td>\n",
              "      <td>0.0</td>\n",
              "      <td>a cheap fix for a computer without bluetooth a...</td>\n",
              "      <td>useful and adaptable</td>\n",
              "    </tr>\n",
              "    <tr>\n",
              "      <th>707346</th>\n",
              "      <td>1663197</td>\n",
              "      <td>1663197</td>\n",
              "      <td>5</td>\n",
              "      <td>0.0</td>\n",
              "      <td>this device is small and works well. it acts a...</td>\n",
              "      <td>very good</td>\n",
              "    </tr>\n",
              "    <tr>\n",
              "      <th>707347</th>\n",
              "      <td>1663199</td>\n",
              "      <td>1663199</td>\n",
              "      <td>5</td>\n",
              "      <td>1.0</td>\n",
              "      <td>ive been wishing my windows 7 computer tower h...</td>\n",
              "      <td>works great on windows 7</td>\n",
              "    </tr>\n",
              "    <tr>\n",
              "      <th>707348</th>\n",
              "      <td>1663200</td>\n",
              "      <td>1663200</td>\n",
              "      <td>5</td>\n",
              "      <td>1.0</td>\n",
              "      <td>i had couple of older pcs and a dell optiplex ...</td>\n",
              "      <td>excellent bluetooth usb adapter</td>\n",
              "    </tr>\n",
              "    <tr>\n",
              "      <th>707349</th>\n",
              "      <td>1663201</td>\n",
              "      <td>1663201</td>\n",
              "      <td>4</td>\n",
              "      <td>0.0</td>\n",
              "      <td>the user manual for the easyacc olive blutooth...</td>\n",
              "      <td>decent sound but questionable design</td>\n",
              "    </tr>\n",
              "    <tr>\n",
              "      <th>707350</th>\n",
              "      <td>1663203</td>\n",
              "      <td>1663203</td>\n",
              "      <td>5</td>\n",
              "      <td>0.0</td>\n",
              "      <td>this high quality bluetooth speaker comes with...</td>\n",
              "      <td>bluetooth speaker with excellent sound quality...</td>\n",
              "    </tr>\n",
              "    <tr>\n",
              "      <th>707351</th>\n",
              "      <td>1663204</td>\n",
              "      <td>1663204</td>\n",
              "      <td>5</td>\n",
              "      <td>0.0</td>\n",
              "      <td>this is an attractive sleek stereo bluetooth s...</td>\n",
              "      <td>well designed high functionality  decent sound</td>\n",
              "    </tr>\n",
              "    <tr>\n",
              "      <th>707352</th>\n",
              "      <td>1663205</td>\n",
              "      <td>1663205</td>\n",
              "      <td>5</td>\n",
              "      <td>1.0</td>\n",
              "      <td>i received a review sample of this speaker and...</td>\n",
              "      <td>superb sound quality at a bargain price</td>\n",
              "    </tr>\n",
              "    <tr>\n",
              "      <th>707353</th>\n",
              "      <td>1663206</td>\n",
              "      <td>1663206</td>\n",
              "      <td>3</td>\n",
              "      <td>0.0</td>\n",
              "      <td>i have two other similarly shaped bluetooth sp...</td>\n",
              "      <td>decent bluetooth speaker  nice and clean audio</td>\n",
              "    </tr>\n",
              "    <tr>\n",
              "      <th>707354</th>\n",
              "      <td>1663207</td>\n",
              "      <td>1663207</td>\n",
              "      <td>4</td>\n",
              "      <td>0.0</td>\n",
              "      <td>i received this at no cost in exchange for wri...</td>\n",
              "      <td>sounds very nice</td>\n",
              "    </tr>\n",
              "    <tr>\n",
              "      <th>707355</th>\n",
              "      <td>1663208</td>\n",
              "      <td>1663208</td>\n",
              "      <td>2</td>\n",
              "      <td>0.0</td>\n",
              "      <td>when i first got this is worked great and then...</td>\n",
              "      <td>hit and miss</td>\n",
              "    </tr>\n",
              "    <tr>\n",
              "      <th>707356</th>\n",
              "      <td>1663209</td>\n",
              "      <td>1663209</td>\n",
              "      <td>4</td>\n",
              "      <td>0.0</td>\n",
              "      <td>the procase works just fine i have only one co...</td>\n",
              "      <td>procase for kindle fire</td>\n",
              "    </tr>\n",
              "    <tr>\n",
              "      <th>707357</th>\n",
              "      <td>1663210</td>\n",
              "      <td>1663210</td>\n",
              "      <td>5</td>\n",
              "      <td>0.0</td>\n",
              "      <td>this case is truly high quality. it fits the k...</td>\n",
              "      <td>real high quality leather</td>\n",
              "    </tr>\n",
              "    <tr>\n",
              "      <th>707358</th>\n",
              "      <td>1663211</td>\n",
              "      <td>1663211</td>\n",
              "      <td>4</td>\n",
              "      <td>0.0</td>\n",
              "      <td>i like everything about this case  the fit the...</td>\n",
              "      <td>almost perfect</td>\n",
              "    </tr>\n",
              "    <tr>\n",
              "      <th>707359</th>\n",
              "      <td>1663213</td>\n",
              "      <td>1663213</td>\n",
              "      <td>5</td>\n",
              "      <td>1.0</td>\n",
              "      <td>my family got my mom a kindle for christmas an...</td>\n",
              "      <td>good product</td>\n",
              "    </tr>\n",
              "    <tr>\n",
              "      <th>707360</th>\n",
              "      <td>1663214</td>\n",
              "      <td>1663214</td>\n",
              "      <td>5</td>\n",
              "      <td>0.0</td>\n",
              "      <td>have had many compliments on this product. gre...</td>\n",
              "      <td>procase for kindle fire hd</td>\n",
              "    </tr>\n",
              "    <tr>\n",
              "      <th>707361</th>\n",
              "      <td>1663215</td>\n",
              "      <td>1663215</td>\n",
              "      <td>2</td>\n",
              "      <td>0.0</td>\n",
              "      <td>the product is short of cheesy the design is r...</td>\n",
              "      <td>didnt work well</td>\n",
              "    </tr>\n",
              "    <tr>\n",
              "      <th>707362</th>\n",
              "      <td>1663216</td>\n",
              "      <td>1663216</td>\n",
              "      <td>4</td>\n",
              "      <td>1.0</td>\n",
              "      <td>a five star case but with an oil cloth odor.  ...</td>\n",
              "      <td>inexpensive well designed case</td>\n",
              "    </tr>\n",
              "    <tr>\n",
              "      <th>707363</th>\n",
              "      <td>1663217</td>\n",
              "      <td>1663217</td>\n",
              "      <td>1</td>\n",
              "      <td>0.0</td>\n",
              "      <td>i am having a bit of a problem to use it.  it ...</td>\n",
              "      <td>very soft</td>\n",
              "    </tr>\n",
              "    <tr>\n",
              "      <th>707364</th>\n",
              "      <td>1663221</td>\n",
              "      <td>1663221</td>\n",
              "      <td>5</td>\n",
              "      <td>0.0</td>\n",
              "      <td>really like this case.  easy to use and the ea...</td>\n",
              "      <td>excellent case</td>\n",
              "    </tr>\n",
              "    <tr>\n",
              "      <th>707365</th>\n",
              "      <td>1663223</td>\n",
              "      <td>1663223</td>\n",
              "      <td>5</td>\n",
              "      <td>0.0</td>\n",
              "      <td>this is a neat protective case for the kindle ...</td>\n",
              "      <td>it fits the kindle fire hdx 89 nicely</td>\n",
              "    </tr>\n",
              "    <tr>\n",
              "      <th>707366</th>\n",
              "      <td>1663224</td>\n",
              "      <td>1663224</td>\n",
              "      <td>5</td>\n",
              "      <td>1.0</td>\n",
              "      <td>excellent and well made case for the hdx kindl...</td>\n",
              "      <td>excellentproduct</td>\n",
              "    </tr>\n",
              "  </tbody>\n",
              "</table>\n",
              "<p>707230 rows × 6 columns</p>\n",
              "</div>"
            ],
            "text/plain": [
              "        Unnamed: 0  ...                                            Summary\n",
              "0                1  ...                                  very disappointed\n",
              "1                2  ...                                     1st impression\n",
              "2                3  ...                             great grafics poor gps\n",
              "3                5  ...                            hdmi nook adapter cable\n",
              "4                9  ...              this works great but read the details\n",
              "5               10  ...                                        as expected\n",
              "6               12  ...                                        works great\n",
              "7               13  ...                                           it works\n",
              "8               14  ...         great replacement for original power cable\n",
              "9               16  ...            45 for a power cord good luck with that\n",
              "10              17  ...                                   good replacement\n",
              "11              19  ...                                            perfect\n",
              "12              21  ...                  pretty simple but definitely good\n",
              "13              25  ...                                              works\n",
              "14              26  ...                                 just what id hoped\n",
              "15              43  ...                                great for the price\n",
              "16              50  ...                                            awesome\n",
              "17              55  ...                                    best mount ever\n",
              "18              57  ...        simple and effective just the way i like it\n",
              "19              67  ...                        works good but has some sag\n",
              "20              70  ...                          great mount for the price\n",
              "21              72  ...                                         good mount\n",
              "22              81  ...  strongeasy install and comes with hdmi cable also\n",
              "23              84  ...                         for the price cant be beat\n",
              "24              89  ...                                         wall mount\n",
              "25              96  ...                        very well made strong mount\n",
              "26              98  ...                  easy to install cheap easy to use\n",
              "27             106  ...            great quality tv mount at bargain price\n",
              "28             109  ...                                           tv mount\n",
              "29             113  ...  nice flexiable mount had to cut to fit vizio e...\n",
              "...            ...  ...                                                ...\n",
              "707337     1663183  ...                                            in love\n",
              "707338     1663184  ...                               total fun brings joy\n",
              "707339     1663186  ...                            50s90 whats not to like\n",
              "707340     1663187  ...                                                fun\n",
              "707341     1663190  ...  works great on asus laptop running windows 7 l...\n",
              "707342     1663191  ...  works great on my windows 8 computer and pairs...\n",
              "707343     1663193  ...                               great usb 40 adapter\n",
              "707344     1663194  ...                    plug and play on my old netbook\n",
              "707345     1663195  ...                               useful and adaptable\n",
              "707346     1663197  ...                                          very good\n",
              "707347     1663199  ...                           works great on windows 7\n",
              "707348     1663200  ...                    excellent bluetooth usb adapter\n",
              "707349     1663201  ...               decent sound but questionable design\n",
              "707350     1663203  ...  bluetooth speaker with excellent sound quality...\n",
              "707351     1663204  ...     well designed high functionality  decent sound\n",
              "707352     1663205  ...            superb sound quality at a bargain price\n",
              "707353     1663206  ...     decent bluetooth speaker  nice and clean audio\n",
              "707354     1663207  ...                                   sounds very nice\n",
              "707355     1663208  ...                                       hit and miss\n",
              "707356     1663209  ...                            procase for kindle fire\n",
              "707357     1663210  ...                          real high quality leather\n",
              "707358     1663211  ...                                     almost perfect\n",
              "707359     1663213  ...                                       good product\n",
              "707360     1663214  ...                         procase for kindle fire hd\n",
              "707361     1663215  ...                                    didnt work well\n",
              "707362     1663216  ...                     inexpensive well designed case\n",
              "707363     1663217  ...                                          very soft\n",
              "707364     1663221  ...                                     excellent case\n",
              "707365     1663223  ...              it fits the kindle fire hdx 89 nicely\n",
              "707366     1663224  ...                                   excellentproduct\n",
              "\n",
              "[707230 rows x 6 columns]"
            ]
          },
          "metadata": {
            "tags": []
          },
          "execution_count": 31
        }
      ]
    },
    {
      "cell_type": "code",
      "metadata": {
        "id": "hs_XRSLvt3uM",
        "colab_type": "code",
        "outputId": "4c2c00b5-ee15-4d80-d2e1-01ce4351dc19",
        "colab": {
          "base_uri": "https://localhost:8080/",
          "height": 34
        }
      },
      "source": [
        "df.shape"
      ],
      "execution_count": 0,
      "outputs": [
        {
          "output_type": "execute_result",
          "data": {
            "text/plain": [
              "(707367, 6)"
            ]
          },
          "metadata": {
            "tags": []
          },
          "execution_count": 32
        }
      ]
    },
    {
      "cell_type": "code",
      "metadata": {
        "id": "2O67zgS7pqgC",
        "colab_type": "code",
        "outputId": "ed628f5e-9eba-4017-c627-29a7b2edf55a",
        "colab": {
          "base_uri": "https://localhost:8080/",
          "height": 185
        }
      },
      "source": [
        "import nltk\n",
        "nltk.download('wordnet')\n",
        "nltk.download('punkt')\n",
        "nltk.download(\"stopwords\")\n",
        "nltk.download('averaged_perceptron_tagger')\n",
        "from nltk import word_tokenize,sent_tokenize\n",
        "import pandas as pd\n",
        "import string\n",
        "from nltk.stem import WordNetLemmatizer\n",
        "from nltk.corpus import wordnet"
      ],
      "execution_count": 0,
      "outputs": [
        {
          "output_type": "stream",
          "text": [
            "[nltk_data] Downloading package wordnet to /root/nltk_data...\n",
            "[nltk_data]   Package wordnet is already up-to-date!\n",
            "[nltk_data] Downloading package punkt to /root/nltk_data...\n",
            "[nltk_data]   Package punkt is already up-to-date!\n",
            "[nltk_data] Downloading package stopwords to /root/nltk_data...\n",
            "[nltk_data]   Package stopwords is already up-to-date!\n",
            "[nltk_data] Downloading package averaged_perceptron_tagger to\n",
            "[nltk_data]     /root/nltk_data...\n",
            "[nltk_data]   Package averaged_perceptron_tagger is already up-to-\n",
            "[nltk_data]       date!\n"
          ],
          "name": "stdout"
        }
      ]
    },
    {
      "cell_type": "code",
      "metadata": {
        "id": "XNwU8QpA-eg-",
        "colab_type": "code",
        "colab": {}
      },
      "source": [
        "def MaxMinWords(paragraph):\n",
        "    numWords = [sentence.split() for sentence in paragraph.split('.')]\n",
        "    return ' '.join(max(numWords))"
      ],
      "execution_count": 0,
      "outputs": []
    },
    {
      "cell_type": "code",
      "metadata": {
        "id": "wJ_E34wr-l27",
        "colab_type": "code",
        "colab": {}
      },
      "source": [
        "df['review'] = df.review.apply(MaxMinWords)"
      ],
      "execution_count": 0,
      "outputs": []
    },
    {
      "cell_type": "code",
      "metadata": {
        "id": "2iSfdUo3ANVR",
        "colab_type": "code",
        "outputId": "57e41103-e40a-4b3f-faad-92830afcc1bd",
        "colab": {
          "base_uri": "https://localhost:8080/",
          "height": 195
        }
      },
      "source": [
        "df.head(5)"
      ],
      "execution_count": 0,
      "outputs": [
        {
          "output_type": "execute_result",
          "data": {
            "text/html": [
              "<div>\n",
              "<style scoped>\n",
              "    .dataframe tbody tr th:only-of-type {\n",
              "        vertical-align: middle;\n",
              "    }\n",
              "\n",
              "    .dataframe tbody tr th {\n",
              "        vertical-align: top;\n",
              "    }\n",
              "\n",
              "    .dataframe thead th {\n",
              "        text-align: right;\n",
              "    }\n",
              "</style>\n",
              "<table border=\"1\" class=\"dataframe\">\n",
              "  <thead>\n",
              "    <tr style=\"text-align: right;\">\n",
              "      <th></th>\n",
              "      <th>Unnamed: 0</th>\n",
              "      <th>Unnamed: 0.1</th>\n",
              "      <th>overall</th>\n",
              "      <th>Helpfulfactor</th>\n",
              "      <th>review</th>\n",
              "      <th>Summary</th>\n",
              "    </tr>\n",
              "  </thead>\n",
              "  <tbody>\n",
              "    <tr>\n",
              "      <th>0</th>\n",
              "      <td>1</td>\n",
              "      <td>1</td>\n",
              "      <td>1</td>\n",
              "      <td>1.0</td>\n",
              "      <td>very exciting especially since every time i re...</td>\n",
              "      <td>very disappointed</td>\n",
              "    </tr>\n",
              "    <tr>\n",
              "      <th>1</th>\n",
              "      <td>2</td>\n",
              "      <td>2</td>\n",
              "      <td>3</td>\n",
              "      <td>1.0</td>\n",
              "      <td>while you can enter multiple stops or vias it ...</td>\n",
              "      <td>1st impression</td>\n",
              "    </tr>\n",
              "    <tr>\n",
              "      <th>2</th>\n",
              "      <td>3</td>\n",
              "      <td>3</td>\n",
              "      <td>2</td>\n",
              "      <td>1.0</td>\n",
              "      <td>you might think in a conjested city situation ...</td>\n",
              "      <td>great grafics poor gps</td>\n",
              "    </tr>\n",
              "    <tr>\n",
              "      <th>3</th>\n",
              "      <td>5</td>\n",
              "      <td>5</td>\n",
              "      <td>5</td>\n",
              "      <td>1.0</td>\n",
              "      <td>the hd picture on my samsung 5234 tv is excellent</td>\n",
              "      <td>hdmi nook adapter cable</td>\n",
              "    </tr>\n",
              "    <tr>\n",
              "      <th>4</th>\n",
              "      <td>9</td>\n",
              "      <td>9</td>\n",
              "      <td>5</td>\n",
              "      <td>1.0</td>\n",
              "      <td>warning</td>\n",
              "      <td>this works great but read the details</td>\n",
              "    </tr>\n",
              "  </tbody>\n",
              "</table>\n",
              "</div>"
            ],
            "text/plain": [
              "   Unnamed: 0  ...                                Summary\n",
              "0           1  ...                      very disappointed\n",
              "1           2  ...                         1st impression\n",
              "2           3  ...                 great grafics poor gps\n",
              "3           5  ...                hdmi nook adapter cable\n",
              "4           9  ...  this works great but read the details\n",
              "\n",
              "[5 rows x 6 columns]"
            ]
          },
          "metadata": {
            "tags": []
          },
          "execution_count": 36
        }
      ]
    },
    {
      "cell_type": "code",
      "metadata": {
        "id": "K5dOO8WHv8HD",
        "colab_type": "code",
        "colab": {}
      },
      "source": [
        "lemmatizer = WordNetLemmatizer()\n",
        "\n",
        "def nltk2wn_tag(nltk_tag):\n",
        "  if nltk_tag.startswith('J'):\n",
        "    return wordnet.ADJ\n",
        "  elif nltk_tag.startswith('V'):\n",
        "    return wordnet.VERB\n",
        "  elif nltk_tag.startswith('N'):\n",
        "    return wordnet.NOUN\n",
        "  elif nltk_tag.startswith('R'):\n",
        "    return wordnet.ADV\n",
        "  else:          \n",
        "    return None\n",
        "def lemmatize_sentence(sentence):\n",
        "  nltk_tagged = nltk.pos_tag(nltk.word_tokenize(sentence))  \n",
        "  wn_tagged = map(lambda x: (x[0], nltk2wn_tag(x[1])), nltk_tagged)\n",
        "  res_words = []\n",
        "  for word, tag in wn_tagged:\n",
        "    if tag is None:            \n",
        "      res_words.append(word)\n",
        "    else:\n",
        "      res_words.append(lemmatizer.lemmatize(word, tag))\n",
        "  return \" \".join(res_words)"
      ],
      "execution_count": 0,
      "outputs": []
    },
    {
      "cell_type": "code",
      "metadata": {
        "id": "Czlcb9nawnd8",
        "colab_type": "code",
        "colab": {}
      },
      "source": [
        "df['review'] = df.review.apply(lemmatize_sentence)"
      ],
      "execution_count": 0,
      "outputs": []
    },
    {
      "cell_type": "code",
      "metadata": {
        "id": "0o4Hs6p2rgu8",
        "colab_type": "code",
        "outputId": "f40bbfe6-eccf-4619-a7ab-e94ab28f228a",
        "colab": {
          "base_uri": "https://localhost:8080/",
          "height": 195
        }
      },
      "source": [
        "df.head()"
      ],
      "execution_count": 0,
      "outputs": [
        {
          "output_type": "execute_result",
          "data": {
            "text/html": [
              "<div>\n",
              "<style scoped>\n",
              "    .dataframe tbody tr th:only-of-type {\n",
              "        vertical-align: middle;\n",
              "    }\n",
              "\n",
              "    .dataframe tbody tr th {\n",
              "        vertical-align: top;\n",
              "    }\n",
              "\n",
              "    .dataframe thead th {\n",
              "        text-align: right;\n",
              "    }\n",
              "</style>\n",
              "<table border=\"1\" class=\"dataframe\">\n",
              "  <thead>\n",
              "    <tr style=\"text-align: right;\">\n",
              "      <th></th>\n",
              "      <th>Unnamed: 0</th>\n",
              "      <th>Unnamed: 0.1</th>\n",
              "      <th>overall</th>\n",
              "      <th>Helpfulfactor</th>\n",
              "      <th>review</th>\n",
              "      <th>Summary</th>\n",
              "    </tr>\n",
              "  </thead>\n",
              "  <tbody>\n",
              "    <tr>\n",
              "      <th>0</th>\n",
              "      <td>1</td>\n",
              "      <td>1</td>\n",
              "      <td>1</td>\n",
              "      <td>1.0</td>\n",
              "      <td>very excite especially since every time i refu...</td>\n",
              "      <td>very disappointed</td>\n",
              "    </tr>\n",
              "    <tr>\n",
              "      <th>1</th>\n",
              "      <td>2</td>\n",
              "      <td>2</td>\n",
              "      <td>3</td>\n",
              "      <td>1.0</td>\n",
              "      <td>while you can enter multiple stop or vias it b...</td>\n",
              "      <td>1st impression</td>\n",
              "    </tr>\n",
              "    <tr>\n",
              "      <th>2</th>\n",
              "      <td>3</td>\n",
              "      <td>3</td>\n",
              "      <td>2</td>\n",
              "      <td>1.0</td>\n",
              "      <td>you might think in a conjested city situation ...</td>\n",
              "      <td>great grafics poor gps</td>\n",
              "    </tr>\n",
              "    <tr>\n",
              "      <th>3</th>\n",
              "      <td>5</td>\n",
              "      <td>5</td>\n",
              "      <td>5</td>\n",
              "      <td>1.0</td>\n",
              "      <td>the hd picture on my samsung 5234 tv be excellent</td>\n",
              "      <td>hdmi nook adapter cable</td>\n",
              "    </tr>\n",
              "    <tr>\n",
              "      <th>4</th>\n",
              "      <td>9</td>\n",
              "      <td>9</td>\n",
              "      <td>5</td>\n",
              "      <td>1.0</td>\n",
              "      <td>warn</td>\n",
              "      <td>this works great but read the details</td>\n",
              "    </tr>\n",
              "  </tbody>\n",
              "</table>\n",
              "</div>"
            ],
            "text/plain": [
              "   Unnamed: 0  ...                                Summary\n",
              "0           1  ...                      very disappointed\n",
              "1           2  ...                         1st impression\n",
              "2           3  ...                 great grafics poor gps\n",
              "3           5  ...                hdmi nook adapter cable\n",
              "4           9  ...  this works great but read the details\n",
              "\n",
              "[5 rows x 6 columns]"
            ]
          },
          "metadata": {
            "tags": []
          },
          "execution_count": 39
        }
      ]
    },
    {
      "cell_type": "code",
      "metadata": {
        "id": "24KlldFu4w96",
        "colab_type": "code",
        "outputId": "7d911289-e30a-42b7-8974-d25f9dd3f24d",
        "colab": {
          "base_uri": "https://localhost:8080/",
          "height": 34
        }
      },
      "source": [
        "df['Summary'].isnull().sum(axis = 0)"
      ],
      "execution_count": 0,
      "outputs": [
        {
          "output_type": "execute_result",
          "data": {
            "text/plain": [
              "137"
            ]
          },
          "metadata": {
            "tags": []
          },
          "execution_count": 40
        }
      ]
    },
    {
      "cell_type": "code",
      "metadata": {
        "id": "P1VxEi2_4z3k",
        "colab_type": "code",
        "outputId": "c7730c0c-9ec6-468b-e2c9-2a49d3ce6535",
        "colab": {
          "base_uri": "https://localhost:8080/",
          "height": 34
        }
      },
      "source": [
        "df['review'].isnull().sum(axis = 0)"
      ],
      "execution_count": 0,
      "outputs": [
        {
          "output_type": "execute_result",
          "data": {
            "text/plain": [
              "0"
            ]
          },
          "metadata": {
            "tags": []
          },
          "execution_count": 41
        }
      ]
    },
    {
      "cell_type": "code",
      "metadata": {
        "id": "xNUPF2GfBgwz",
        "colab_type": "code",
        "colab": {}
      },
      "source": [
        "df['review'] = df['review'].str.replace('[^A-Za-z\\s]+', '')"
      ],
      "execution_count": 0,
      "outputs": []
    },
    {
      "cell_type": "code",
      "metadata": {
        "id": "ni9010IttiL8",
        "colab_type": "code",
        "colab": {}
      },
      "source": [
        "from nltk.corpus import stopwords\n",
        "stop = stopwords.words('english')"
      ],
      "execution_count": 0,
      "outputs": []
    },
    {
      "cell_type": "code",
      "metadata": {
        "id": "Teq7y_ddDEHy",
        "colab_type": "code",
        "colab": {}
      },
      "source": [
        ""
      ],
      "execution_count": 0,
      "outputs": []
    },
    {
      "cell_type": "code",
      "metadata": {
        "id": "Usvkw-OI4J3r",
        "colab_type": "code",
        "colab": {}
      },
      "source": [
        "df['review'] = df['review'].apply(lambda x: ' '.join([word for word in x.split() if word not in (stop)]))"
      ],
      "execution_count": 0,
      "outputs": []
    },
    {
      "cell_type": "code",
      "metadata": {
        "id": "6ffDXKkg8Tfe",
        "colab_type": "code",
        "outputId": "4b9dce9c-1ce5-4a61-d7d1-137493d01b95",
        "colab": {
          "base_uri": "https://localhost:8080/",
          "height": 195
        }
      },
      "source": [
        "df.head()"
      ],
      "execution_count": 0,
      "outputs": [
        {
          "output_type": "execute_result",
          "data": {
            "text/html": [
              "<div>\n",
              "<style scoped>\n",
              "    .dataframe tbody tr th:only-of-type {\n",
              "        vertical-align: middle;\n",
              "    }\n",
              "\n",
              "    .dataframe tbody tr th {\n",
              "        vertical-align: top;\n",
              "    }\n",
              "\n",
              "    .dataframe thead th {\n",
              "        text-align: right;\n",
              "    }\n",
              "</style>\n",
              "<table border=\"1\" class=\"dataframe\">\n",
              "  <thead>\n",
              "    <tr style=\"text-align: right;\">\n",
              "      <th></th>\n",
              "      <th>overall</th>\n",
              "      <th>Helpfulfactor</th>\n",
              "      <th>review</th>\n",
              "      <th>Summary</th>\n",
              "    </tr>\n",
              "  </thead>\n",
              "  <tbody>\n",
              "    <tr>\n",
              "      <th>0</th>\n",
              "      <td>1</td>\n",
              "      <td>1.0</td>\n",
              "      <td>excite especially since every time refuse turn...</td>\n",
              "      <td>very disappointed</td>\n",
              "    </tr>\n",
              "    <tr>\n",
              "      <th>1</th>\n",
              "      <td>3</td>\n",
              "      <td>1.0</td>\n",
              "      <td>enter multiple stop vias nowhere near userfrie...</td>\n",
              "      <td>1st impression</td>\n",
              "    </tr>\n",
              "    <tr>\n",
              "      <th>2</th>\n",
              "      <td>2</td>\n",
              "      <td>1.0</td>\n",
              "      <td>might think conjested city situation might get...</td>\n",
              "      <td>great grafics poor gps</td>\n",
              "    </tr>\n",
              "    <tr>\n",
              "      <th>3</th>\n",
              "      <td>5</td>\n",
              "      <td>1.0</td>\n",
              "      <td>hd picture samsung tv excellent</td>\n",
              "      <td>hdmi nook adapter cable</td>\n",
              "    </tr>\n",
              "    <tr>\n",
              "      <th>4</th>\n",
              "      <td>5</td>\n",
              "      <td>1.0</td>\n",
              "      <td>warn</td>\n",
              "      <td>this works great but read the details</td>\n",
              "    </tr>\n",
              "  </tbody>\n",
              "</table>\n",
              "</div>"
            ],
            "text/plain": [
              "   overall  ...                                Summary\n",
              "0        1  ...                      very disappointed\n",
              "1        3  ...                         1st impression\n",
              "2        2  ...                 great grafics poor gps\n",
              "3        5  ...                hdmi nook adapter cable\n",
              "4        5  ...  this works great but read the details\n",
              "\n",
              "[5 rows x 4 columns]"
            ]
          },
          "metadata": {
            "tags": []
          },
          "execution_count": 50
        }
      ]
    },
    {
      "cell_type": "code",
      "metadata": {
        "id": "tQwBl712CSWy",
        "colab_type": "code",
        "outputId": "b3d14873-0a72-49c0-8ef7-e47eb650d196",
        "colab": {
          "base_uri": "https://localhost:8080/",
          "height": 67
        }
      },
      "source": [
        "df['Helpfulfactor'].value_counts()"
      ],
      "execution_count": 0,
      "outputs": [
        {
          "output_type": "execute_result",
          "data": {
            "text/plain": [
              "1.0    450735\n",
              "0.0    256632\n",
              "Name: Helpfulfactor, dtype: int64"
            ]
          },
          "metadata": {
            "tags": []
          },
          "execution_count": 45
        }
      ]
    },
    {
      "cell_type": "code",
      "metadata": {
        "id": "IAeFhfuFj2Fq",
        "colab_type": "code",
        "colab": {}
      },
      "source": [
        "df = df.dropna()"
      ],
      "execution_count": 0,
      "outputs": []
    },
    {
      "cell_type": "code",
      "metadata": {
        "id": "kvb7_u2hJtyf",
        "colab_type": "code",
        "colab": {}
      },
      "source": [
        "df = df.drop(['Unnamed: 0', 'Unnamed: 0.1'], axis=1)"
      ],
      "execution_count": 0,
      "outputs": []
    },
    {
      "cell_type": "code",
      "metadata": {
        "id": "wvl-lbcxPqBc",
        "colab_type": "code",
        "outputId": "4a221594-682c-4a56-fd10-72da1c2c1bb1",
        "colab": {
          "base_uri": "https://localhost:8080/",
          "height": 337
        }
      },
      "source": [
        "data = df.to_csv('AmazonElectronicsProductReviewClean.csv')\n",
        "from google.colab import files\n",
        "files.download('AmazonElectronicsProductReviewClean.csv')"
      ],
      "execution_count": 0,
      "outputs": [
        {
          "output_type": "error",
          "ename": "KeyboardInterrupt",
          "evalue": "ignored",
          "traceback": [
            "\u001b[0;31m---------------------------------------------------------------------------\u001b[0m",
            "\u001b[0;31mKeyboardInterrupt\u001b[0m                         Traceback (most recent call last)",
            "\u001b[0;32m<ipython-input-52-a2b3fb4da822>\u001b[0m in \u001b[0;36m<module>\u001b[0;34m()\u001b[0m\n\u001b[1;32m      1\u001b[0m \u001b[0mdata\u001b[0m \u001b[0;34m=\u001b[0m \u001b[0mdf\u001b[0m\u001b[0;34m.\u001b[0m\u001b[0mto_csv\u001b[0m\u001b[0;34m(\u001b[0m\u001b[0;34m'AmazonElectronicsProductReviewClean.csv'\u001b[0m\u001b[0;34m)\u001b[0m\u001b[0;34m\u001b[0m\u001b[0;34m\u001b[0m\u001b[0m\n\u001b[1;32m      2\u001b[0m \u001b[0;32mfrom\u001b[0m \u001b[0mgoogle\u001b[0m\u001b[0;34m.\u001b[0m\u001b[0mcolab\u001b[0m \u001b[0;32mimport\u001b[0m \u001b[0mfiles\u001b[0m\u001b[0;34m\u001b[0m\u001b[0;34m\u001b[0m\u001b[0m\n\u001b[0;32m----> 3\u001b[0;31m \u001b[0mfiles\u001b[0m\u001b[0;34m.\u001b[0m\u001b[0mdownload\u001b[0m\u001b[0;34m(\u001b[0m\u001b[0;34m'AmazonElectronicsProductReviewClean.csv'\u001b[0m\u001b[0;34m)\u001b[0m\u001b[0;34m\u001b[0m\u001b[0;34m\u001b[0m\u001b[0m\n\u001b[0m",
            "\u001b[0;32m/usr/local/lib/python3.6/dist-packages/google/colab/files.py\u001b[0m in \u001b[0;36mdownload\u001b[0;34m(filename)\u001b[0m\n\u001b[1;32m    176\u001b[0m       \u001b[0;34m'port'\u001b[0m\u001b[0;34m:\u001b[0m \u001b[0mport\u001b[0m\u001b[0;34m,\u001b[0m\u001b[0;34m\u001b[0m\u001b[0;34m\u001b[0m\u001b[0m\n\u001b[1;32m    177\u001b[0m       \u001b[0;34m'path'\u001b[0m\u001b[0;34m:\u001b[0m \u001b[0m_os\u001b[0m\u001b[0;34m.\u001b[0m\u001b[0mpath\u001b[0m\u001b[0;34m.\u001b[0m\u001b[0mabspath\u001b[0m\u001b[0;34m(\u001b[0m\u001b[0mfilename\u001b[0m\u001b[0;34m)\u001b[0m\u001b[0;34m,\u001b[0m\u001b[0;34m\u001b[0m\u001b[0;34m\u001b[0m\u001b[0m\n\u001b[0;32m--> 178\u001b[0;31m       \u001b[0;34m'name'\u001b[0m\u001b[0;34m:\u001b[0m \u001b[0m_os\u001b[0m\u001b[0;34m.\u001b[0m\u001b[0mpath\u001b[0m\u001b[0;34m.\u001b[0m\u001b[0mbasename\u001b[0m\u001b[0;34m(\u001b[0m\u001b[0mfilename\u001b[0m\u001b[0;34m)\u001b[0m\u001b[0;34m,\u001b[0m\u001b[0;34m\u001b[0m\u001b[0;34m\u001b[0m\u001b[0m\n\u001b[0m\u001b[1;32m    179\u001b[0m   })\n",
            "\u001b[0;32m/usr/local/lib/python3.6/dist-packages/google/colab/output/_js.py\u001b[0m in \u001b[0;36meval_js\u001b[0;34m(script, ignore_result)\u001b[0m\n\u001b[1;32m     37\u001b[0m   \u001b[0;32mif\u001b[0m \u001b[0mignore_result\u001b[0m\u001b[0;34m:\u001b[0m\u001b[0;34m\u001b[0m\u001b[0;34m\u001b[0m\u001b[0m\n\u001b[1;32m     38\u001b[0m     \u001b[0;32mreturn\u001b[0m\u001b[0;34m\u001b[0m\u001b[0;34m\u001b[0m\u001b[0m\n\u001b[0;32m---> 39\u001b[0;31m   \u001b[0;32mreturn\u001b[0m \u001b[0m_message\u001b[0m\u001b[0;34m.\u001b[0m\u001b[0mread_reply_from_input\u001b[0m\u001b[0;34m(\u001b[0m\u001b[0mrequest_id\u001b[0m\u001b[0;34m)\u001b[0m\u001b[0;34m\u001b[0m\u001b[0;34m\u001b[0m\u001b[0m\n\u001b[0m\u001b[1;32m     40\u001b[0m \u001b[0;34m\u001b[0m\u001b[0m\n\u001b[1;32m     41\u001b[0m \u001b[0;34m\u001b[0m\u001b[0m\n",
            "\u001b[0;32m/usr/local/lib/python3.6/dist-packages/google/colab/_message.py\u001b[0m in \u001b[0;36mread_reply_from_input\u001b[0;34m(message_id, timeout_sec)\u001b[0m\n\u001b[1;32m     99\u001b[0m     \u001b[0mreply\u001b[0m \u001b[0;34m=\u001b[0m \u001b[0m_read_next_input_message\u001b[0m\u001b[0;34m(\u001b[0m\u001b[0;34m)\u001b[0m\u001b[0;34m\u001b[0m\u001b[0;34m\u001b[0m\u001b[0m\n\u001b[1;32m    100\u001b[0m     \u001b[0;32mif\u001b[0m \u001b[0mreply\u001b[0m \u001b[0;34m==\u001b[0m \u001b[0m_NOT_READY\u001b[0m \u001b[0;32mor\u001b[0m \u001b[0;32mnot\u001b[0m \u001b[0misinstance\u001b[0m\u001b[0;34m(\u001b[0m\u001b[0mreply\u001b[0m\u001b[0;34m,\u001b[0m \u001b[0mdict\u001b[0m\u001b[0;34m)\u001b[0m\u001b[0;34m:\u001b[0m\u001b[0;34m\u001b[0m\u001b[0;34m\u001b[0m\u001b[0m\n\u001b[0;32m--> 101\u001b[0;31m       \u001b[0mtime\u001b[0m\u001b[0;34m.\u001b[0m\u001b[0msleep\u001b[0m\u001b[0;34m(\u001b[0m\u001b[0;36m0.025\u001b[0m\u001b[0;34m)\u001b[0m\u001b[0;34m\u001b[0m\u001b[0;34m\u001b[0m\u001b[0m\n\u001b[0m\u001b[1;32m    102\u001b[0m       \u001b[0;32mcontinue\u001b[0m\u001b[0;34m\u001b[0m\u001b[0;34m\u001b[0m\u001b[0m\n\u001b[1;32m    103\u001b[0m     if (reply.get('type') == 'colab_reply' and\n",
            "\u001b[0;31mKeyboardInterrupt\u001b[0m: "
          ]
        }
      ]
    },
    {
      "cell_type": "code",
      "metadata": {
        "id": "K8PU4daBBIVZ",
        "colab_type": "code",
        "colab": {}
      },
      "source": [
        ""
      ],
      "execution_count": 0,
      "outputs": []
    }
  ]
}